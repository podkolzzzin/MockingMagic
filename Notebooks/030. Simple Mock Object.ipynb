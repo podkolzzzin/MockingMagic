{
 "cells": [
  {
   "attachments": {},
   "cell_type": "markdown",
   "metadata": {},
   "source": [
    "### Sample Code To Cover"
   ]
  },
  {
   "cell_type": "code",
   "execution_count": 18,
   "metadata": {
    "vscode": {
     "languageId": "csharp"
    }
   },
   "outputs": [],
   "source": [
    "\n",
    "public interface IEventBusProvider\n",
    "{\n",
    "  void Send(object message);\n",
    "}\n",
    "\n",
    "class Service\n",
    "{\n",
    "  private readonly IEventBusProvider _eventBusProvider;\n",
    "  public Service(IEventBusProvider eventBusProvider)\n",
    "  {\n",
    "    _eventBusProvider = eventBusProvider;\n",
    "  }\n",
    "\n",
    "  public void FireAndForget()\n",
    "  {\n",
    "    // Do Smth\n",
    "    _eventBusProvider.Send(new { Message = \"Hello\" });\n",
    "  }\n",
    "}\n",
    "\n"
   ]
  },
  {
   "attachments": {},
   "cell_type": "markdown",
   "metadata": {},
   "source": [
    "### Using Moq"
   ]
  },
  {
   "cell_type": "code",
   "execution_count": 19,
   "metadata": {
    "vscode": {
     "languageId": "csharp"
    }
   },
   "outputs": [
    {
     "data": {
      "text/html": [
       "<div><div></div><div></div><div><strong>Installed Packages</strong><ul><li><span>Moq, 4.18.4</span></li></ul></div></div>"
      ]
     },
     "metadata": {},
     "output_type": "display_data"
    },
    {
     "name": "stderr",
     "output_type": "stream",
     "text": [
      "\n",
      "warning CS1701: Assuming assembly reference 'System.Linq.Expressions, Version=6.0.0.0, Culture=neutral, PublicKeyToken=b03f5f7f11d50a3a' used by 'Moq' matches identity 'System.Linq.Expressions, Version=7.0.0.0, Culture=neutral, PublicKeyToken=b03f5f7f11d50a3a' of 'System.Linq.Expressions', you may need to supply runtime policy\n",
      "\n"
     ]
    }
   ],
   "source": [
    "#r \"nuget:Moq, 4.18.4\"\n",
    "\n",
    "using Moq;\n",
    "\n",
    "// Arrange\n",
    "var eventBusMock = new Mock<IEventBusProvider>();\n",
    "var service = new Service(eventBusMock.Object);\n",
    "\n",
    "// Act\n",
    "service.FireAndForget();\n",
    "\n",
    "// Assert\n",
    "eventBusMock.Verify(x => x.Send(It.IsAny<object>()), Times.Once);"
   ]
  },
  {
   "attachments": {},
   "cell_type": "markdown",
   "metadata": {},
   "source": [
    "### Goal Syntax"
   ]
  },
  {
   "cell_type": "code",
   "execution_count": null,
   "metadata": {
    "vscode": {
     "languageId": "csharp"
    }
   },
   "outputs": [],
   "source": [
    "var eventBusMock = new MockObject<IEventBusProvider>();\n",
    "var service = new Service(eventBusMock.Object);\n",
    "service.FireAndForget();\n",
    "eventBusMock.Verify(x => x.Send(Arg.IsAny<object>()), Executed.Once);"
   ]
  },
  {
   "attachments": {},
   "cell_type": "markdown",
   "metadata": {},
   "source": [
    "### Symple Implementation"
   ]
  },
  {
   "attachments": {},
   "cell_type": "markdown",
   "metadata": {},
   "source": [
    "#### The most Simple: class to verify execution count"
   ]
  },
  {
   "cell_type": "code",
   "execution_count": 21,
   "metadata": {
    "vscode": {
     "languageId": "csharp"
    }
   },
   "outputs": [],
   "source": [
    "public sealed class Executed\n",
    "{\n",
    "  private readonly Func<int, bool> _validate;\n",
    "  private readonly string _message;\n",
    "\n",
    "  public Executed(Func<int, bool> validate, string message)\n",
    "  {\n",
    "    _validate = validate;\n",
    "    _message = message;\n",
    "  }\n",
    "\n",
    "  public void Verify(int count)\n",
    "  {\n",
    "    if (!_validate.Invoke(count))\n",
    "    {\n",
    "      throw new Exception($\"Executed wrong number of times. Expected: {_message} Executed: {count}\");\n",
    "    }\n",
    "  }\n",
    "\n",
    "  public static Executed Once => new (x => x == 1, \"Once\");\n",
    "  public static Executed Never => new (x => x == 0, \"Never\");\n",
    "  public static Executed AtLeast(int times) => new (x => x >= times, $\"At least {times}\");\n",
    "  public static Executed AtMost(int times) => new (x => x <= times, $\"At most {times}\");\n",
    "}\n",
    "\n",
    "public class Arg\n",
    "{\n",
    "  public static T IsAny<T>() => throw new InvalidOperationException();\n",
    "}"
   ]
  },
  {
   "attachments": {},
   "cell_type": "markdown",
   "metadata": {},
   "source": [
    "#### Factory for Proxies"
   ]
  },
  {
   "cell_type": "code",
   "execution_count": 23,
   "metadata": {
    "vscode": {
     "languageId": "csharp"
    }
   },
   "outputs": [],
   "source": [
    "using Castle.DynamicProxy;\n",
    "\n",
    "public class ProxyFactory\n",
    "{\n",
    "  private readonly ProxyGenerator _generator = new ();\n",
    "\n",
    "  public T GetProxy<T>(IInterceptor interceptor) where T:class => _generator.CreateInterfaceProxyWithoutTarget<T>(interceptor);\n",
    "}\n",
    "\n",
    "public static class FactoryProvider \n",
    "{\n",
    "  public static ProxyFactory Factory {get;} = new ProxyFactory();\n",
    "}"
   ]
  },
  {
   "attachments": {},
   "cell_type": "markdown",
   "metadata": {},
   "source": [
    "#### Simple MockObject (v1)"
   ]
  },
  {
   "cell_type": "code",
   "execution_count": 24,
   "metadata": {
    "vscode": {
     "languageId": "csharp"
    }
   },
   "outputs": [],
   "source": [
    "using System.Linq.Expressions;\n",
    "using IInvocation = Castle.DynamicProxy.IInvocation; // It is conflict with Moq.Invocation which in fact wraps Castle.Core\n",
    "\n",
    "public class MockObject<T>  where T : class \n",
    "{\n",
    "  private readonly Lazy<T> _lazy;\n",
    "  private readonly MockInterceptor _interceptor = new();\n",
    "  \n",
    "  public MockObject() \n",
    "  {\n",
    "    _lazy = new Lazy<T>(CreateInstance);\n",
    "  }\n",
    "\n",
    "  public T Object => _lazy.Value;\n",
    "\n",
    "  private T CreateInstance() => FactoryProvider.Factory.GetProxy<T>(_interceptor);\n",
    "}\n",
    "\n",
    "public class MockInterceptor : StandardInterceptor\n",
    "{\n",
    "  protected override void PreProceed(IInvocation invocation) => Console.WriteLine(\"PreProceed\");\n",
    "\n",
    "  protected override void PerformProceed(IInvocation invocation) => Console.WriteLine(\"PerformProceed\");\n",
    "}"
   ]
  },
  {
   "attachments": {},
   "cell_type": "markdown",
   "metadata": {},
   "source": [
    "#### Sample Syntax Check (Is is at least compiles?)"
   ]
  },
  {
   "cell_type": "code",
   "execution_count": 25,
   "metadata": {
    "vscode": {
     "languageId": "csharp"
    }
   },
   "outputs": [
    {
     "name": "stderr",
     "output_type": "stream",
     "text": [
      "\n",
      "(4,14): error CS1061: 'MockObject<IEventBusProvider>' does not contain a definition for 'Verify' and no accessible extension method 'Verify' accepting a first argument of type 'MockObject<IEventBusProvider>' could be found (are you missing a using directive or an assembly reference?)\n",
      "\n"
     ]
    },
    {
     "ename": "Error",
     "evalue": "compilation error",
     "output_type": "error",
     "traceback": []
    }
   ],
   "source": [
    "var eventBusMock = new MockObject<IEventBusProvider>();\n",
    "var service = new Service(eventBusMock.Object);\n",
    "service.FireAndForget();\n",
    "eventBusMock.Verify(x => x.Send(Arg.IsAny<object>()), Executed.Once);"
   ]
  },
  {
   "attachments": {},
   "cell_type": "markdown",
   "metadata": {},
   "source": [
    "There is an error. Verify Method should be added to MockObject.\n",
    "Let's guess it's signature and implement it later\n",
    "\n",
    "```CSharp\n",
    "// Mock<T> Verify:\n",
    "public void Verify(Expression<Action<T>> expression, Times times);\n",
    "\n",
    "// So our vatiant would be simmilar\n",
    "public void Verify(Expression<Action<T>> expression, Executed times) {}"
   ]
  },
  {
   "attachments": {},
   "cell_type": "markdown",
   "metadata": {},
   "source": [
    "#### How verify can be implemented?\n",
    "\n",
    "In fact really easy.\n",
    "We have this MockInterceptor class and we should store Invocations there.\n",
    "Then when verified is called we should *Filter* by the target parameter values and then count invocations\n",
    "\n",
    "```CSharp\n",
    "public class MockInterceptor : StandardInterceptor\n",
    "{\n",
    "  protected override void PreProceed(IInvocation invocation) => Console.WriteLine(\"PreProceed\");\n",
    "\n",
    "  protected override void PerformProceed(IInvocation invocation) => Console.WriteLine(\"PerformProceed\");\n",
    "}\n",
    "```"
   ]
  },
  {
   "attachments": {},
   "cell_type": "markdown",
   "metadata": {},
   "source": [
    "#### Interceptor (V2) with collecting invocations"
   ]
  },
  {
   "cell_type": "code",
   "execution_count": 26,
   "metadata": {
    "vscode": {
     "languageId": "csharp"
    }
   },
   "outputs": [],
   "source": [
    "public class MockInvocationMatch\n",
    "{\n",
    "  private readonly Expression _expression;\n",
    "  public MockInvocationMatch(Expression expression)\n",
    "  {\n",
    "    _expression = expression;\n",
    "  }\n",
    "  public bool IsMatch(MockInvocation invocation) => true;\n",
    "}\n",
    "\n",
    "public class MockInvocation\n",
    "{\n",
    "  private readonly IInvocation _invocation;\n",
    "  public MockInvocation(IInvocation invocation)\n",
    "  {\n",
    "    _invocation = invocation;\n",
    "  }\n",
    "}"
   ]
  },
  {
   "cell_type": "code",
   "execution_count": 27,
   "metadata": {
    "vscode": {
     "languageId": "csharp"
    }
   },
   "outputs": [],
   "source": [
    "public class MockInterceptor : StandardInterceptor\n",
    "{\n",
    "  private readonly List<MockInvocation> _invocations = new();\n",
    "\n",
    "  public IReadOnlyList<MockInvocation> Invocations => _invocations;\n",
    "\n",
    "  protected override void PreProceed(IInvocation invocation)\n",
    "  {\n",
    "    _invocations.Add(new MockInvocation(invocation));\n",
    "    base.PreProceed(invocation);\n",
    "  }\n",
    "\n",
    "  protected override void PerformProceed(IInvocation invocation) {}\n",
    "}"
   ]
  },
  {
   "attachments": {},
   "cell_type": "markdown",
   "metadata": {},
   "source": [
    "#### And now we can use Invocations List in MockObject.Verify\n",
    "```CSharp\n",
    "  public void Verify(Expression<Action<T>> action, Executed times)\n",
    "  {\n",
    "    var invocationMatch = new MockInvocationMatch(action);\n",
    "    times.Verify(_interceptor.Invocations.Count(x => x.IsMatch(invocationMatch)));\n",
    "  }\n",
    "```"
   ]
  },
  {
   "cell_type": "code",
   "execution_count": 28,
   "metadata": {
    "vscode": {
     "languageId": "csharp"
    }
   },
   "outputs": [],
   "source": [
    "public class MockInterceptor : StandardInterceptor\n",
    "{\n",
    "  private readonly List<MockInvocation> _invocations = new();\n",
    "\n",
    "  public IReadOnlyList<MockInvocation> Invocations => _invocations;\n",
    "\n",
    "  protected override void PreProceed(IInvocation invocation)\n",
    "  {\n",
    "    _invocations.Add(new MockInvocation(invocation));\n",
    "    base.PreProceed(invocation);\n",
    "  }\n",
    "\n",
    "  protected override void PerformProceed(IInvocation invocation)\n",
    "  {\n",
    "  }\n",
    "}\n",
    "\n",
    "public class MockObject<T>  where T : class \n",
    "{\n",
    "  private readonly Lazy<T> _lazy;\n",
    "  private readonly MockInterceptor _interceptor = new();\n",
    "  \n",
    "  public MockObject() \n",
    "  {\n",
    "    _lazy = new Lazy<T>(CreateInstance);\n",
    "  }\n",
    "\n",
    "  public void Verify(Expression<Action<T>> action, Executed times)\n",
    "  {\n",
    "    var invocationMatch = new MockInvocationMatch(action);\n",
    "    times.Verify(_interceptor.Invocations.Count(x => invocationMatch.IsMatch(x)));\n",
    "  }\n",
    "\n",
    "  public T Object => _lazy.Value;\n",
    "\n",
    "  private T CreateInstance() => FactoryProvider.Factory.GetProxy<T>(_interceptor);\n",
    "}"
   ]
  },
  {
   "attachments": {},
   "cell_type": "markdown",
   "metadata": {},
   "source": [
    "#### Let's verify out goal Syntax again"
   ]
  },
  {
   "cell_type": "code",
   "execution_count": 31,
   "metadata": {
    "vscode": {
     "languageId": "csharp"
    }
   },
   "outputs": [],
   "source": [
    "var eventBusMock = new MockObject<IEventBusProvider>();\n",
    "var service = new Service(eventBusMock.Object);\n",
    "service.FireAndForget();\n",
    "eventBusMock.Verify(x => x.Send(Arg.IsAny<object>()), Executed.Once);"
   ]
  },
  {
   "cell_type": "code",
   "execution_count": 30,
   "metadata": {
    "vscode": {
     "languageId": "csharp"
    }
   },
   "outputs": [
    {
     "ename": "Error",
     "evalue": "System.Exception: Executed wrong number of times. Expected: At least 4 Executed: 1\r\n   at Submission#23.Executed.Verify(Int32 count)\r\n   at Submission#30.MockObject`1.Verify(Expression`1 action, Executed times)\r\n   at Submission#32.<<Initialize>>d__0.MoveNext()\r\n--- End of stack trace from previous location ---\r\n   at Microsoft.CodeAnalysis.Scripting.ScriptExecutionState.RunSubmissionsAsync[TResult](ImmutableArray`1 precedingExecutors, Func`2 currentExecutor, StrongBox`1 exceptionHolderOpt, Func`2 catchExceptionOpt, CancellationToken cancellationToken)",
     "output_type": "error",
     "traceback": [
      "System.Exception: Executed wrong number of times. Expected: At least 4 Executed: 1\r\n   at Submission#23.Executed.Verify(Int32 count)\r\n   at Submission#30.MockObject`1.Verify(Expression`1 action, Executed times)\r\n   at Submission#32.<<Initialize>>d__0.MoveNext()\r\n--- End of stack trace from previous location ---\r\n   at Microsoft.CodeAnalysis.Scripting.ScriptExecutionState.RunSubmissionsAsync[TResult](ImmutableArray`1 precedingExecutors, Func`2 currentExecutor, StrongBox`1 exceptionHolderOpt, Func`2 catchExceptionOpt, CancellationToken cancellationToken)",
      "   at Submission#23.Executed.Verify(Int32 count)",
      "   at Submission#30.MockObject`1.Verify(Expression`1 action, Executed times)",
      "   at Submission#32.<<Initialize>>d__0.MoveNext()",
      "--- End of stack trace from previous location ---",
      "   at Microsoft.CodeAnalysis.Scripting.ScriptExecutionState.RunSubmissionsAsync[TResult](ImmutableArray`1 precedingExecutors, Func`2 currentExecutor, StrongBox`1 exceptionHolderOpt, Func`2 catchExceptionOpt, CancellationToken cancellationToken)"
     ]
    }
   ],
   "source": [
    "eventBusMock.Verify(x => x.Send(Arg.IsAny<object>()), Executed.AtLeast(4));"
   ]
  },
  {
   "attachments": {},
   "cell_type": "markdown",
   "metadata": {},
   "source": [
    "####  And Important Note\n",
    "Despite the Arg.IsAny<T> *always* throws exception out code executes OK.\n",
    "```CSharp\n",
    "public class Arg\n",
    "{\n",
    "  public static T IsAny<T>() => throw new InvalidOperationException();\n",
    "}\n",
    "```\n",
    "\n",
    "It's because it is never executed and Passed to verify as expression.\n",
    "```CSharp \n",
    "// So our vatiant would be simmilar\n",
    "public void Verify(Expression<Action<T>> expression, Executed times) {}\n",
    "```"
   ]
  }
 ],
 "metadata": {
  "kernelspec": {
   "display_name": ".NET (C#)",
   "language": "C#",
   "name": ".net-csharp"
  },
  "language_info": {
   "file_extension": ".cs",
   "mimetype": "text/x-csharp",
   "name": "C#",
   "pygments_lexer": "csharp",
   "version": "11.0"
  },
  "orig_nbformat": 4
 },
 "nbformat": 4,
 "nbformat_minor": 2
}
