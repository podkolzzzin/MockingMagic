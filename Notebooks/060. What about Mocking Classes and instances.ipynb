{
 "cells": [
  {
   "attachments": {},
   "cell_type": "markdown",
   "metadata": {},
   "source": [
    "### What About Mocking Classes and instances?"
   ]
  },
  {
   "cell_type": "code",
   "execution_count": 1,
   "metadata": {
    "vscode": {
     "languageId": "csharp"
    }
   },
   "outputs": [
    {
     "data": {
      "text/html": [
       "\r\n",
       "<div>\r\n",
       "    <div id='dotnet-interactive-this-cell-29560.Microsoft.DotNet.Interactive.Http.HttpPort' style='display: none'>\r\n",
       "        The below script needs to be able to find the current output cell; this is an easy method to get it.\r\n",
       "    </div>\r\n",
       "    <script type='text/javascript'>\r\n",
       "async function probeAddresses(probingAddresses) {\r\n",
       "    function timeout(ms, promise) {\r\n",
       "        return new Promise(function (resolve, reject) {\r\n",
       "            setTimeout(function () {\r\n",
       "                reject(new Error('timeout'))\r\n",
       "            }, ms)\r\n",
       "            promise.then(resolve, reject)\r\n",
       "        })\r\n",
       "    }\r\n",
       "\r\n",
       "    if (Array.isArray(probingAddresses)) {\r\n",
       "        for (let i = 0; i < probingAddresses.length; i++) {\r\n",
       "\r\n",
       "            let rootUrl = probingAddresses[i];\r\n",
       "\r\n",
       "            if (!rootUrl.endsWith('/')) {\r\n",
       "                rootUrl = `${rootUrl}/`;\r\n",
       "            }\r\n",
       "\r\n",
       "            try {\r\n",
       "                let response = await timeout(1000, fetch(`${rootUrl}discovery`, {\r\n",
       "                    method: 'POST',\r\n",
       "                    cache: 'no-cache',\r\n",
       "                    mode: 'cors',\r\n",
       "                    timeout: 1000,\r\n",
       "                    headers: {\r\n",
       "                        'Content-Type': 'text/plain'\r\n",
       "                    },\r\n",
       "                    body: probingAddresses[i]\r\n",
       "                }));\r\n",
       "\r\n",
       "                if (response.status == 200) {\r\n",
       "                    return rootUrl;\r\n",
       "                }\r\n",
       "            }\r\n",
       "            catch (e) { }\r\n",
       "        }\r\n",
       "    }\r\n",
       "}\r\n",
       "\r\n",
       "function loadDotnetInteractiveApi() {\r\n",
       "    probeAddresses([\"http://172.23.192.1:2059/\", \"http://172.23.96.1:2059/\", \"http://10.1.171.153:2059/\", \"http://192.168.1.183:2059/\", \"http://127.0.0.1:2059/\"])\r\n",
       "        .then((root) => {\r\n",
       "        // use probing to find host url and api resources\r\n",
       "        // load interactive helpers and language services\r\n",
       "        let dotnetInteractiveRequire = require.config({\r\n",
       "        context: '29560.Microsoft.DotNet.Interactive.Http.HttpPort',\r\n",
       "                paths:\r\n",
       "            {\r\n",
       "                'dotnet-interactive': `${root}resources`\r\n",
       "                }\r\n",
       "        }) || require;\r\n",
       "\r\n",
       "            window.dotnetInteractiveRequire = dotnetInteractiveRequire;\r\n",
       "\r\n",
       "            window.configureRequireFromExtension = function(extensionName, extensionCacheBuster) {\r\n",
       "                let paths = {};\r\n",
       "                paths[extensionName] = `${root}extensions/${extensionName}/resources/`;\r\n",
       "                \r\n",
       "                let internalRequire = require.config({\r\n",
       "                    context: extensionCacheBuster,\r\n",
       "                    paths: paths,\r\n",
       "                    urlArgs: `cacheBuster=${extensionCacheBuster}`\r\n",
       "                    }) || require;\r\n",
       "\r\n",
       "                return internalRequire\r\n",
       "            };\r\n",
       "        \r\n",
       "            dotnetInteractiveRequire([\r\n",
       "                    'dotnet-interactive/dotnet-interactive'\r\n",
       "                ],\r\n",
       "                function (dotnet) {\r\n",
       "                    dotnet.init(window);\r\n",
       "                },\r\n",
       "                function (error) {\r\n",
       "                    console.log(error);\r\n",
       "                }\r\n",
       "            );\r\n",
       "        })\r\n",
       "        .catch(error => {console.log(error);});\r\n",
       "    }\r\n",
       "\r\n",
       "// ensure `require` is available globally\r\n",
       "if ((typeof(require) !==  typeof(Function)) || (typeof(require.config) !== typeof(Function))) {\r\n",
       "    let require_script = document.createElement('script');\r\n",
       "    require_script.setAttribute('src', 'https://cdnjs.cloudflare.com/ajax/libs/require.js/2.3.6/require.min.js');\r\n",
       "    require_script.setAttribute('type', 'text/javascript');\r\n",
       "    \r\n",
       "    \r\n",
       "    require_script.onload = function() {\r\n",
       "        loadDotnetInteractiveApi();\r\n",
       "    };\r\n",
       "\r\n",
       "    document.getElementsByTagName('head')[0].appendChild(require_script);\r\n",
       "}\r\n",
       "else {\r\n",
       "    loadDotnetInteractiveApi();\r\n",
       "}\r\n",
       "\r\n",
       "    </script>\r\n",
       "</div>"
      ]
     },
     "metadata": {},
     "output_type": "display_data"
    },
    {
     "data": {
      "text/html": [
       "<div><div></div><div></div><div><strong>Installed Packages</strong><ul><li><span>Moq, 4.18.4</span></li></ul></div></div>"
      ]
     },
     "metadata": {},
     "output_type": "display_data"
    },
    {
     "data": {
      "text/html": [
       "<details open=\"open\" class=\"dni-treeview\"><summary><span class=\"dni-code-hint\"><code>Mock<Submission#3.F:1>.Object</code></span></summary><div><table><thead><tr></tr></thead><tbody><tr><td>Mock</td><td><details class=\"dni-treeview\"><summary><span class=\"dni-code-hint\"><code>Mock<Submission#3.F:1></code></span></summary><div><table><thead><tr></tr></thead><tbody><tr><td>Behavior</td><td><span>Loose</span></td></tr><tr><td>CallBase</td><td><div class=\"dni-plaintext\"><pre>False</pre></div></td></tr><tr><td>DefaultValueProvider</td><td><details class=\"dni-treeview\"><summary><span class=\"dni-code-hint\"><code>Moq.EmptyDefaultValueProvider</code></span></summary><div><table><thead><tr></tr></thead><tbody></tbody></table></div></details></td></tr><tr><td>Object</td><td>Mock&lt;Submission#3.F:1&gt;</td></tr><tr><td>Name</td><td>Mock&lt;Submission#3.F:1&gt;</td></tr><tr><td>Switches</td><td><span>Default</span></td></tr><tr><td>DefaultValue</td><td><span>Empty</span></td></tr><tr><td>Object</td><td>Mock&lt;Submission#3.F:1&gt;</td></tr><tr><td>Invocations</td><td></td></tr><tr><td>Setups</td><td></td></tr></tbody></table></div></details></td></tr><tr><td>Moq.IMocked`1[F].Mock</td><td><details class=\"dni-treeview\"><summary><span class=\"dni-code-hint\"><code>Mock<Submission#3.F:1></code></span></summary><div><table><thead><tr></tr></thead><tbody><tr><td>Behavior</td><td><span>Loose</span></td></tr><tr><td>CallBase</td><td><div class=\"dni-plaintext\"><pre>False</pre></div></td></tr><tr><td>DefaultValueProvider</td><td><details class=\"dni-treeview\"><summary><span class=\"dni-code-hint\"><code>Moq.EmptyDefaultValueProvider</code></span></summary><div><table><thead><tr></tr></thead><tbody></tbody></table></div></details></td></tr><tr><td>Object</td><td>Mock&lt;Submission#3.F:1&gt;</td></tr><tr><td>Name</td><td>Mock&lt;Submission#3.F:1&gt;</td></tr><tr><td>Switches</td><td><span>Default</span></td></tr><tr><td>DefaultValue</td><td><span>Empty</span></td></tr><tr><td>Object</td><td>Mock&lt;Submission#3.F:1&gt;</td></tr><tr><td>Invocations</td><td></td></tr><tr><td>Setups</td><td></td></tr></tbody></table></div></details></td></tr><tr><td>Interceptor</td><td><details class=\"dni-treeview\"><summary><span class=\"dni-code-hint\"><code>Mock<Submission#3.F:1></code></span></summary><div><table><thead><tr></tr></thead><tbody><tr><td>Behavior</td><td><span>Loose</span></td></tr><tr><td>CallBase</td><td><div class=\"dni-plaintext\"><pre>False</pre></div></td></tr><tr><td>DefaultValueProvider</td><td><details class=\"dni-treeview\"><summary><span class=\"dni-code-hint\"><code>Moq.EmptyDefaultValueProvider</code></span></summary><div><table><thead><tr></tr></thead><tbody></tbody></table></div></details></td></tr><tr><td>Object</td><td>Mock&lt;Submission#3.F:1&gt;</td></tr><tr><td>Name</td><td>Mock&lt;Submission#3.F:1&gt;</td></tr><tr><td>Switches</td><td><span>Default</span></td></tr><tr><td>DefaultValue</td><td><span>Empty</span></td></tr><tr><td>Object</td><td>Mock&lt;Submission#3.F:1&gt;</td></tr><tr><td>Invocations</td><td></td></tr><tr><td>Setups</td><td></td></tr></tbody></table></div></details></td></tr></tbody></table></div></details><style>\r\n",
       ".dni-code-hint {\r\n",
       "    font-style: italic;\r\n",
       "    overflow: hidden;\r\n",
       "    white-space: nowrap;\r\n",
       "}\r\n",
       ".dni-treeview {\r\n",
       "    white-space: nowrap;\r\n",
       "}\r\n",
       ".dni-treeview td {\r\n",
       "    vertical-align: top;\r\n",
       "    text-align: start;\r\n",
       "}\r\n",
       "details.dni-treeview {\r\n",
       "    padding-left: 1em;\r\n",
       "}\r\n",
       "table td {\r\n",
       "    text-align: start;\r\n",
       "}\r\n",
       "table tr { \r\n",
       "    vertical-align: top; \r\n",
       "    margin: 0em 0px;\r\n",
       "}\r\n",
       "table tr td pre \r\n",
       "{ \r\n",
       "    vertical-align: top !important; \r\n",
       "    margin: 0em 0px !important;\r\n",
       "} \r\n",
       "table th {\r\n",
       "    text-align: start;\r\n",
       "}\r\n",
       "</style>"
      ]
     },
     "execution_count": 1,
     "metadata": {},
     "output_type": "execute_result"
    }
   ],
   "source": [
    "#r \"nuget: Moq\"\n",
    "using Moq;\n",
    "\n",
    "class F {}\n",
    "\n",
    "var mock = new Mock<F>();\n",
    "mock.Object"
   ]
  },
  {
   "cell_type": "code",
   "execution_count": 2,
   "metadata": {
    "vscode": {
     "languageId": "csharp"
    }
   },
   "outputs": [
    {
     "ename": "Error",
     "evalue": "System.NotSupportedException: Type to mock (Submission#4.F1) must be an interface, a delegate, or a non-sealed, non-static class.\r\n   at Moq.Guard.IsMockable(Type type) in C:\\projects\\moq4\\src\\Moq\\Guard.cs:line 207\r\n   at Moq.Mock`1..ctor(MockBehavior behavior, Object[] args) in C:\\projects\\moq4\\src\\Moq\\Mock`1.cs:line 173\r\n   at Moq.Mock`1..ctor(MockBehavior behavior) in C:\\projects\\moq4\\src\\Moq\\Mock`1.cs:line 157\r\n   at Moq.Mock`1..ctor() in C:\\projects\\moq4\\src\\Moq\\Mock`1.cs:line 124\r\n   at Submission#4.<<Initialize>>d__0.MoveNext()\r\n--- End of stack trace from previous location ---\r\n   at Microsoft.CodeAnalysis.Scripting.ScriptExecutionState.RunSubmissionsAsync[TResult](ImmutableArray`1 precedingExecutors, Func`2 currentExecutor, StrongBox`1 exceptionHolderOpt, Func`2 catchExceptionOpt, CancellationToken cancellationToken)",
     "output_type": "error",
     "traceback": [
      "System.NotSupportedException: Type to mock (Submission#4.F1) must be an interface, a delegate, or a non-sealed, non-static class.\r\n   at Moq.Guard.IsMockable(Type type) in C:\\projects\\moq4\\src\\Moq\\Guard.cs:line 207\r\n   at Moq.Mock`1..ctor(MockBehavior behavior, Object[] args) in C:\\projects\\moq4\\src\\Moq\\Mock`1.cs:line 173\r\n   at Moq.Mock`1..ctor(MockBehavior behavior) in C:\\projects\\moq4\\src\\Moq\\Mock`1.cs:line 157\r\n   at Moq.Mock`1..ctor() in C:\\projects\\moq4\\src\\Moq\\Mock`1.cs:line 124\r\n   at Submission#4.<<Initialize>>d__0.MoveNext()\r\n--- End of stack trace from previous location ---\r\n   at Microsoft.CodeAnalysis.Scripting.ScriptExecutionState.RunSubmissionsAsync[TResult](ImmutableArray`1 precedingExecutors, Func`2 currentExecutor, StrongBox`1 exceptionHolderOpt, Func`2 catchExceptionOpt, CancellationToken cancellationToken)",
      "   at Moq.Guard.IsMockable(Type type) in C:\\projects\\moq4\\src\\Moq\\Guard.cs:line 207",
      "   at Moq.Mock`1..ctor(MockBehavior behavior, Object[] args) in C:\\projects\\moq4\\src\\Moq\\Mock`1.cs:line 173",
      "   at Moq.Mock`1..ctor(MockBehavior behavior) in C:\\projects\\moq4\\src\\Moq\\Mock`1.cs:line 157",
      "   at Moq.Mock`1..ctor() in C:\\projects\\moq4\\src\\Moq\\Mock`1.cs:line 124",
      "   at Submission#4.<<Initialize>>d__0.MoveNext()",
      "--- End of stack trace from previous location ---",
      "   at Microsoft.CodeAnalysis.Scripting.ScriptExecutionState.RunSubmissionsAsync[TResult](ImmutableArray`1 precedingExecutors, Func`2 currentExecutor, StrongBox`1 exceptionHolderOpt, Func`2 catchExceptionOpt, CancellationToken cancellationToken)"
     ]
    }
   ],
   "source": [
    "sealed class F1 {}\n",
    "\n",
    "var mock = new Mock<F1>();\n",
    "mock.Object"
   ]
  },
  {
   "cell_type": "code",
   "execution_count": null,
   "metadata": {
    "vscode": {
     "languageId": "csharp"
    }
   },
   "outputs": [],
   "source": [
    "public class ProxyFactory\n",
    "{\n",
    "  private readonly ProxyGenerator _generator = new();\n",
    "\n",
    "  public T GetProxy<T>(IInterceptor interceptor) where T : class \n",
    "  {\n",
    "    // _generator.CreateClassProxy<T>\n",
    "    // _generator.CreateClassProxyWithTarget<T>\n",
    "    // _generator.CreateInterfaceProxyWithTarget\n",
    "    // _generator.CreateInterfaceProxyWithTargetInterface - for multiple interfaces\n",
    "    return _generator.CreateInterfaceProxyWithoutTarget<T>(interceptor);\n",
    "  }\n",
    "}"
   ]
  }
 ],
 "metadata": {
  "kernelspec": {
   "display_name": ".NET (C#)",
   "language": "C#",
   "name": ".net-csharp"
  },
  "language_info": {
   "file_extension": ".cs",
   "mimetype": "text/x-csharp",
   "name": "C#",
   "pygments_lexer": "csharp",
   "version": "11.0"
  },
  "orig_nbformat": 4
 },
 "nbformat": 4,
 "nbformat_minor": 2
}
