{
 "cells": [
  {
   "attachments": {},
   "cell_type": "markdown",
   "metadata": {},
   "source": [
    "### In NSubstitute Mock object and Mock itself is the same object for end user\n",
    "To configure it they actively use ThreadLocal.Context\n",
    "For verification extension methods that can be applied to everything are used:"
   ]
  },
  {
   "attachments": {},
   "cell_type": "markdown",
   "metadata": {},
   "source": [
    "```CSharp\n",
    " /// <summary>\n",
    " /// Set a return value for this call.\n",
    " /// </summary>\n",
    " /// <param name=\"value\"></param>\n",
    " /// <param name=\"returnThis\">Value to return</param>\n",
    " /// <param name=\"returnThese\">Optionally return these values next</param>\n",
    " public static ConfiguredCall Returns<T>(this T value, T returnThis, params T[] returnThese) =>\n",
    "     ConfigureReturn(MatchArgs.AsSpecifiedInCall, returnThis, returnThese);"
   ]
  },
  {
   "attachments": {},
   "cell_type": "markdown",
   "metadata": {},
   "source": [
    "### Sample"
   ]
  },
  {
   "attachments": {},
   "cell_type": "markdown",
   "metadata": {},
   "source": [
    "```CSharp\n",
    "//Create:\n",
    "var calculator = Substitute.For<ICalculator>();\n",
    "\n",
    "//Set a return value:\n",
    "calculator.Add(1, 2).Returns(3);\n",
    "Assert.AreEqual(3, calculator.Add(1, 2));\n",
    "\n",
    "//Check received calls:\n",
    "calculator.Received().Add(1, Arg.Any<int>());\n",
    "calculator.DidNotReceive().Add(2, 2);\n",
    "\n",
    "//Raise events\n",
    "calculator.PoweringUp += Raise.Event();\n",
    "```"
   ]
  },
  {
   "attachments": {},
   "cell_type": "markdown",
   "metadata": {},
   "source": [
    "### When Method for setting up behaviour of void Methods\n",
    "```CSharp\n",
    "public static WhenCalled<T> When<T>(this T substitute, Action<T> substituteCall)\n",
    "```"
   ]
  },
  {
   "attachments": {},
   "cell_type": "markdown",
   "metadata": {},
   "source": [
    "```CSharp\n",
    "[Test]\n",
    "public void Run_multiple_actions_when_called()\n",
    "{\n",
    "    int called = 0;\n",
    "    _something.When(x => x.Echo(Arg.Any<int>())).Do(x => called++);\n",
    "    _something.When(x => x.Echo(4)).Do(x => called++);\n",
    "    _something.WhenForAnyArgs(x => x.Echo(1234)).Do(x => called++);\n",
    "\n",
    "    Assert.That(called, Is.EqualTo(0), \"Should not have been called yet\");\n",
    "    _something.Echo(4);\n",
    "    Assert.That(called, Is.EqualTo(3));\n",
    "}"
   ]
  }
 ],
 "metadata": {
  "language_info": {
   "name": "python"
  },
  "orig_nbformat": 4
 },
 "nbformat": 4,
 "nbformat_minor": 2
}
