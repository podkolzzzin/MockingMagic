{
 "cells": [
  {
   "attachments": {},
   "cell_type": "markdown",
   "metadata": {},
   "source": [
    "## Setup"
   ]
  },
  {
   "cell_type": "code",
   "execution_count": 1,
   "metadata": {
    "vscode": {
     "languageId": "csharp"
    }
   },
   "outputs": [
    {
     "data": {
      "text/html": [
       "\r\n",
       "<div>\r\n",
       "    <div id='dotnet-interactive-this-cell-22296.Microsoft.DotNet.Interactive.Http.HttpPort' style='display: none'>\r\n",
       "        The below script needs to be able to find the current output cell; this is an easy method to get it.\r\n",
       "    </div>\r\n",
       "    <script type='text/javascript'>\r\n",
       "async function probeAddresses(probingAddresses) {\r\n",
       "    function timeout(ms, promise) {\r\n",
       "        return new Promise(function (resolve, reject) {\r\n",
       "            setTimeout(function () {\r\n",
       "                reject(new Error('timeout'))\r\n",
       "            }, ms)\r\n",
       "            promise.then(resolve, reject)\r\n",
       "        })\r\n",
       "    }\r\n",
       "\r\n",
       "    if (Array.isArray(probingAddresses)) {\r\n",
       "        for (let i = 0; i < probingAddresses.length; i++) {\r\n",
       "\r\n",
       "            let rootUrl = probingAddresses[i];\r\n",
       "\r\n",
       "            if (!rootUrl.endsWith('/')) {\r\n",
       "                rootUrl = `${rootUrl}/`;\r\n",
       "            }\r\n",
       "\r\n",
       "            try {\r\n",
       "                let response = await timeout(1000, fetch(`${rootUrl}discovery`, {\r\n",
       "                    method: 'POST',\r\n",
       "                    cache: 'no-cache',\r\n",
       "                    mode: 'cors',\r\n",
       "                    timeout: 1000,\r\n",
       "                    headers: {\r\n",
       "                        'Content-Type': 'text/plain'\r\n",
       "                    },\r\n",
       "                    body: probingAddresses[i]\r\n",
       "                }));\r\n",
       "\r\n",
       "                if (response.status == 200) {\r\n",
       "                    return rootUrl;\r\n",
       "                }\r\n",
       "            }\r\n",
       "            catch (e) { }\r\n",
       "        }\r\n",
       "    }\r\n",
       "}\r\n",
       "\r\n",
       "function loadDotnetInteractiveApi() {\r\n",
       "    probeAddresses([\"http://172.23.192.1:2056/\", \"http://172.23.96.1:2056/\", \"http://10.1.171.153:2056/\", \"http://192.168.1.183:2056/\", \"http://127.0.0.1:2056/\"])\r\n",
       "        .then((root) => {\r\n",
       "        // use probing to find host url and api resources\r\n",
       "        // load interactive helpers and language services\r\n",
       "        let dotnetInteractiveRequire = require.config({\r\n",
       "        context: '22296.Microsoft.DotNet.Interactive.Http.HttpPort',\r\n",
       "                paths:\r\n",
       "            {\r\n",
       "                'dotnet-interactive': `${root}resources`\r\n",
       "                }\r\n",
       "        }) || require;\r\n",
       "\r\n",
       "            window.dotnetInteractiveRequire = dotnetInteractiveRequire;\r\n",
       "\r\n",
       "            window.configureRequireFromExtension = function(extensionName, extensionCacheBuster) {\r\n",
       "                let paths = {};\r\n",
       "                paths[extensionName] = `${root}extensions/${extensionName}/resources/`;\r\n",
       "                \r\n",
       "                let internalRequire = require.config({\r\n",
       "                    context: extensionCacheBuster,\r\n",
       "                    paths: paths,\r\n",
       "                    urlArgs: `cacheBuster=${extensionCacheBuster}`\r\n",
       "                    }) || require;\r\n",
       "\r\n",
       "                return internalRequire\r\n",
       "            };\r\n",
       "        \r\n",
       "            dotnetInteractiveRequire([\r\n",
       "                    'dotnet-interactive/dotnet-interactive'\r\n",
       "                ],\r\n",
       "                function (dotnet) {\r\n",
       "                    dotnet.init(window);\r\n",
       "                },\r\n",
       "                function (error) {\r\n",
       "                    console.log(error);\r\n",
       "                }\r\n",
       "            );\r\n",
       "        })\r\n",
       "        .catch(error => {console.log(error);});\r\n",
       "    }\r\n",
       "\r\n",
       "// ensure `require` is available globally\r\n",
       "if ((typeof(require) !==  typeof(Function)) || (typeof(require.config) !== typeof(Function))) {\r\n",
       "    let require_script = document.createElement('script');\r\n",
       "    require_script.setAttribute('src', 'https://cdnjs.cloudflare.com/ajax/libs/require.js/2.3.6/require.min.js');\r\n",
       "    require_script.setAttribute('type', 'text/javascript');\r\n",
       "    \r\n",
       "    \r\n",
       "    require_script.onload = function() {\r\n",
       "        loadDotnetInteractiveApi();\r\n",
       "    };\r\n",
       "\r\n",
       "    document.getElementsByTagName('head')[0].appendChild(require_script);\r\n",
       "}\r\n",
       "else {\r\n",
       "    loadDotnetInteractiveApi();\r\n",
       "}\r\n",
       "\r\n",
       "    </script>\r\n",
       "</div>"
      ]
     },
     "metadata": {},
     "output_type": "display_data"
    },
    {
     "data": {
      "text/html": [
       "<div><div></div><div></div><div><strong>Installed Packages</strong><ul><li><span>Castle.Core, 5.1.1</span></li></ul></div></div>"
      ]
     },
     "metadata": {},
     "output_type": "display_data"
    }
   ],
   "source": [
    "#r \"nuget: Castle.Core\"\n",
    "\n",
    "using System.Collections.Immutable;\n",
    "using System.Linq.Expressions;\n",
    "using System.Reflection;\n",
    "using Castle.DynamicProxy;"
   ]
  },
  {
   "attachments": {},
   "cell_type": "markdown",
   "metadata": {},
   "source": [
    "## Executed and Arg classes"
   ]
  },
  {
   "cell_type": "code",
   "execution_count": 2,
   "metadata": {
    "vscode": {
     "languageId": "csharp"
    }
   },
   "outputs": [],
   "source": [
    "public class Executed\n",
    "{\n",
    "  private readonly Func<int, bool> _validate;\n",
    "  private readonly string _message;\n",
    "\n",
    "  public Executed(Func<int, bool> validate, string message)\n",
    "  {\n",
    "    _validate = validate;\n",
    "    _message = message;\n",
    "  }\n",
    "\n",
    "  public void Verify(int count)\n",
    "  {\n",
    "    if (!_validate.Invoke(count))\n",
    "    {\n",
    "      throw new Exception($\"Executed wrong number of times. Expected: {_message} Executed: {count}\");\n",
    "    }\n",
    "  }\n",
    "\n",
    "  public static Executed Once => new (x => x == 1, \"Once\");\n",
    "  public static Executed Never => new (x => x == 0, \"Never\");\n",
    "  public static Executed AtLeast(int times) => new (x => x >= times, $\"At least {times}\");\n",
    "  public static Executed AtMost(int times) => new (x => x <= times, $\"At most {times}\");\n",
    "}\n"
   ]
  },
  {
   "cell_type": "code",
   "execution_count": 6,
   "metadata": {
    "vscode": {
     "languageId": "csharp"
    }
   },
   "outputs": [],
   "source": [
    "public class Arg\n",
    "{\n",
    "  public static T IsAny<T>() => throw new InvalidOperationException();\n",
    "  public static T Is<T>(Func<T, bool> matcher) => throw new InvalidOperationException();\n",
    "}"
   ]
  },
  {
   "attachments": {},
   "cell_type": "markdown",
   "metadata": {},
   "source": [
    "## MatchInvocation (CastleCore Invocation wrapper) + ProxyGenerator (also Castle Core Wrapper)"
   ]
  },
  {
   "cell_type": "code",
   "execution_count": 7,
   "metadata": {
    "vscode": {
     "languageId": "csharp"
    }
   },
   "outputs": [],
   "source": [
    "public class MockInvocation \n",
    "{\n",
    "  public MockInvocation(IInvocation invocation)\n",
    "  {\n",
    "    Arguments = invocation.Arguments.ToImmutableArray();\n",
    "    Method = invocation.Method;\n",
    "  }\n",
    "  \n",
    "  public MethodInfo Method { get; }\n",
    "  public ImmutableArray<object> Arguments { get; }\n",
    "}\n",
    "\n",
    "public class MockInterceptor : StandardInterceptor\n",
    "{\n",
    "  private readonly List<MockInvocation> _invocations = new();\n",
    "\n",
    "  public IReadOnlyList<MockInvocation> Invocations => _invocations;\n",
    "\n",
    "  protected override void PreProceed(IInvocation invocation)\n",
    "  {\n",
    "    _invocations.Add(new MockInvocation(invocation));\n",
    "    base.PreProceed(invocation);\n",
    "  }\n",
    "\n",
    "  protected override void PerformProceed(IInvocation invocation)\n",
    "  {\n",
    "  }\n",
    "}"
   ]
  },
  {
   "cell_type": "code",
   "execution_count": 8,
   "metadata": {
    "vscode": {
     "languageId": "csharp"
    }
   },
   "outputs": [],
   "source": [
    "public class ProxyFactory\n",
    "{\n",
    "  private readonly ProxyGenerator _generator = new ();\n",
    "\n",
    "  public T GetProxy<T>(IInterceptor interceptor) where T:class => _generator.CreateInterfaceProxyWithoutTarget<T>(interceptor);\n",
    "}\n",
    "\n",
    "public static class FactoryProvider \n",
    "{\n",
    "  public static ProxyFactory Factory {get;} = new ProxyFactory();\n",
    "}"
   ]
  },
  {
   "attachments": {},
   "cell_type": "markdown",
   "metadata": {},
   "source": [
    "## ExpressionVisitor to Match Args conditions "
   ]
  },
  {
   "cell_type": "code",
   "execution_count": 9,
   "metadata": {
    "vscode": {
     "languageId": "csharp"
    }
   },
   "outputs": [],
   "source": [
    "public class Visitor : ExpressionVisitor\n",
    "{\n",
    "  private static readonly MethodInfo IsMethod = typeof(Arg).GetMethods(BindingFlags.Static | BindingFlags.Public).Single(x => x.Name == \"Is\");\n",
    "  public MethodInfo Method { get; private set; }\n",
    "  public IReadOnlyList<Func<object, bool>> ArgumentValidators { get; private set; }\n",
    "  protected override Expression VisitMethodCall(MethodCallExpression node)\n",
    "  {\n",
    "    Method = node.Method;\n",
    "    var argumentValidators = new List<Func<object, bool>>();\n",
    "    foreach (var argument in node.Arguments)\n",
    "    {\n",
    "      if (argument.NodeType == ExpressionType.Constant)\n",
    "      {\n",
    "        argumentValidators.Add(x => x.Equals(((ConstantExpression)argument).Value));\n",
    "      }\n",
    "      else if (argument.NodeType == ExpressionType.Call)\n",
    "      {\n",
    "        VisitItExpression(argumentValidators, (MethodCallExpression)argument);\n",
    "      }\n",
    "    }\n",
    "\n",
    "    ArgumentValidators = argumentValidators;\n",
    "    return node;\n",
    "  }\n",
    "  \n",
    "  private void VisitItExpression(List<Func<object,bool>> argumentValidators, MethodCallExpression argument)\n",
    "  {\n",
    "    if (argument.Method.DeclaringType != typeof(Arg))\n",
    "    {\n",
    "      throw new InvalidOperationException(\"Only Arg.Is* is supported\");\n",
    "    }\n",
    "    else if (argument.Method.IsGenericMethod)\n",
    "    {\n",
    "      var genericMethodDefinition = argument.Method.GetGenericMethodDefinition();\n",
    "      if (genericMethodDefinition == IsMethod)\n",
    "      {\n",
    "        argumentValidators.Add(VisitIsMethod(argument));\n",
    "      }\n",
    "      // Handle Other Methods...\n",
    "    }\n",
    "  }\n",
    "\n",
    "  private Func<object, bool> VisitIsMethod(MethodCallExpression argument)\n",
    "  {\n",
    "    var arg = (LambdaExpression)argument.Arguments.Single(); // We know that Arg.Is has only one argument\n",
    "    return BuildArgumentValidator(arg.Parameters.Single().Type, arg);\n",
    "  }\n",
    "\n",
    "  private Func<object, bool> BuildArgumentValidator(Type castToType, Expression validateExpression)\n",
    "  {\n",
    "    var arg = Expression.Parameter(typeof(object));\n",
    "    var casted = Expression.Convert(arg, castToType);\n",
    "    var body = Expression.Invoke(validateExpression, casted);\n",
    "    return Expression.Lambda<Func<object, bool>>(body, arg).Compile();\n",
    "  }\n",
    "}\n",
    "\n",
    "public class MockInvocationMatch\n",
    "{\n",
    "  private readonly MethodInfo _method;\n",
    "  private readonly IReadOnlyList<Func<object, bool>> _argumentValidators;\n",
    "\n",
    "  public MockInvocationMatch(Expression expression)\n",
    "  {\n",
    "    var visitor = new Visitor();\n",
    "    visitor.Visit(expression);\n",
    "    (_method, _argumentValidators) = (visitor.Method, visitor.ArgumentValidators);\n",
    "  }\n",
    "  public bool IsMatch(MockInvocation invocation) => invocation.Method == _method && invocation.Arguments.Zip(_argumentValidators, (x, y) => y(x)).All(x => x);\n",
    "}"
   ]
  },
  {
   "attachments": {},
   "cell_type": "markdown",
   "metadata": {},
   "source": [
    "## Central Mock class with valid Match Method"
   ]
  },
  {
   "cell_type": "code",
   "execution_count": 10,
   "metadata": {
    "vscode": {
     "languageId": "csharp"
    }
   },
   "outputs": [],
   "source": [
    "public class MockObject<T>  where T : class \n",
    "{\n",
    "  private readonly Lazy<T> _lazy;\n",
    "  private readonly MockInterceptor _interceptor = new();\n",
    "  \n",
    "  public MockObject() \n",
    "  {\n",
    "    _lazy = new Lazy<T>(CreateInstance);\n",
    "  }\n",
    "\n",
    "  public void Verify(Expression<Action<T>> action, Executed times)\n",
    "  {\n",
    "    var invocationMatch = new MockInvocationMatch(action);\n",
    "    times.Verify(_interceptor.Invocations.Count(x => invocationMatch.IsMatch(x)));\n",
    "  }\n",
    "\n",
    "  public T Object => _lazy.Value;\n",
    "\n",
    "  private T CreateInstance() => FactoryProvider.Factory.GetProxy<T>(_interceptor);\n",
    "}"
   ]
  },
  {
   "attachments": {},
   "cell_type": "markdown",
   "metadata": {},
   "source": [
    "## Demos"
   ]
  },
  {
   "cell_type": "code",
   "execution_count": 11,
   "metadata": {
    "vscode": {
     "languageId": "csharp"
    }
   },
   "outputs": [],
   "source": [
    "public interface IFoo\n",
    "{\n",
    "  void M(int n);\n",
    "}\n",
    "\n",
    "var mockObj = new MockObject<IFoo>();\n",
    "mockObj.Object.M(10);"
   ]
  },
  {
   "cell_type": "code",
   "execution_count": 12,
   "metadata": {
    "vscode": {
     "languageId": "csharp"
    }
   },
   "outputs": [],
   "source": [
    "mockObj.Verify(x => x.M(Arg.Is<int>(n => n == 10)), Executed.Once);"
   ]
  },
  {
   "cell_type": "code",
   "execution_count": 13,
   "metadata": {
    "vscode": {
     "languageId": "csharp"
    }
   },
   "outputs": [
    {
     "ename": "Error",
     "evalue": "System.Exception: Executed wrong number of times. Expected: Once Executed: 0\r\n   at Submission#4.Executed.Verify(Int32 count)\r\n   at Submission#12.MockObject`1.Verify(Expression`1 action, Executed times)\r\n   at Submission#15.<<Initialize>>d__0.MoveNext()\r\n--- End of stack trace from previous location ---\r\n   at Microsoft.CodeAnalysis.Scripting.ScriptExecutionState.RunSubmissionsAsync[TResult](ImmutableArray`1 precedingExecutors, Func`2 currentExecutor, StrongBox`1 exceptionHolderOpt, Func`2 catchExceptionOpt, CancellationToken cancellationToken)",
     "output_type": "error",
     "traceback": [
      "System.Exception: Executed wrong number of times. Expected: Once Executed: 0\r\n   at Submission#4.Executed.Verify(Int32 count)\r\n   at Submission#12.MockObject`1.Verify(Expression`1 action, Executed times)\r\n   at Submission#15.<<Initialize>>d__0.MoveNext()\r\n--- End of stack trace from previous location ---\r\n   at Microsoft.CodeAnalysis.Scripting.ScriptExecutionState.RunSubmissionsAsync[TResult](ImmutableArray`1 precedingExecutors, Func`2 currentExecutor, StrongBox`1 exceptionHolderOpt, Func`2 catchExceptionOpt, CancellationToken cancellationToken)",
      "   at Submission#4.Executed.Verify(Int32 count)",
      "   at Submission#12.MockObject`1.Verify(Expression`1 action, Executed times)",
      "   at Submission#15.<<Initialize>>d__0.MoveNext()",
      "--- End of stack trace from previous location ---",
      "   at Microsoft.CodeAnalysis.Scripting.ScriptExecutionState.RunSubmissionsAsync[TResult](ImmutableArray`1 precedingExecutors, Func`2 currentExecutor, StrongBox`1 exceptionHolderOpt, Func`2 catchExceptionOpt, CancellationToken cancellationToken)"
     ]
    }
   ],
   "source": [
    "mockObj.Verify(x => x.M(Arg.Is<int>(n => n == 11)), Executed.Once);"
   ]
  }
 ],
 "metadata": {
  "kernelspec": {
   "display_name": ".NET (C#)",
   "language": "C#",
   "name": ".net-csharp"
  },
  "language_info": {
   "file_extension": ".cs",
   "mimetype": "text/x-csharp",
   "name": "C#",
   "pygments_lexer": "csharp",
   "version": "11.0"
  },
  "orig_nbformat": 4
 },
 "nbformat": 4,
 "nbformat_minor": 2
}
