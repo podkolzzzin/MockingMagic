{
 "cells": [
  {
   "attachments": {},
   "cell_type": "markdown",
   "metadata": {},
   "source": [
    "## Goal Syntax"
   ]
  },
  {
   "cell_type": "code",
   "execution_count": 2,
   "metadata": {
    "vscode": {
     "languageId": "csharp"
    }
   },
   "outputs": [],
   "source": [
    "interface IFoo2\n",
    "{\n",
    "    int M(string arg);\n",
    "}"
   ]
  },
  {
   "attachments": {},
   "cell_type": "markdown",
   "metadata": {},
   "source": [
    "### Using Moq"
   ]
  },
  {
   "cell_type": "code",
   "execution_count": 3,
   "metadata": {
    "vscode": {
     "languageId": "csharp"
    }
   },
   "outputs": [
    {
     "data": {
      "text/html": [
       "<div><div></div><div></div><div><strong>Installed Packages</strong><ul><li><span>Moq, 4.18.4</span></li></ul></div></div>"
      ]
     },
     "metadata": {},
     "output_type": "display_data"
    },
    {
     "name": "stderr",
     "output_type": "stream",
     "text": [
      "\n",
      "warning CS1701: Assuming assembly reference 'System.Linq.Expressions, Version=6.0.0.0, Culture=neutral, PublicKeyToken=b03f5f7f11d50a3a' used by 'Moq' matches identity 'System.Linq.Expressions, Version=7.0.0.0, Culture=neutral, PublicKeyToken=b03f5f7f11d50a3a' of 'System.Linq.Expressions', you may need to supply runtime policy\n",
      "\n",
      "warning CS1701: Assuming assembly reference 'System.Linq.Expressions, Version=6.0.0.0, Culture=neutral, PublicKeyToken=b03f5f7f11d50a3a' used by 'Moq' matches identity 'System.Linq.Expressions, Version=7.0.0.0, Culture=neutral, PublicKeyToken=b03f5f7f11d50a3a' of 'System.Linq.Expressions', you may need to supply runtime policy\n",
      "\n",
      "warning CS1701: Assuming assembly reference 'System.Linq.Expressions, Version=6.0.0.0, Culture=neutral, PublicKeyToken=b03f5f7f11d50a3a' used by 'Moq' matches identity 'System.Linq.Expressions, Version=7.0.0.0, Culture=neutral, PublicKeyToken=b03f5f7f11d50a3a' of 'System.Linq.Expressions', you may need to supply runtime policy\n",
      "\n",
      "warning CS1701: Assuming assembly reference 'System.Linq.Expressions, Version=6.0.0.0, Culture=neutral, PublicKeyToken=b03f5f7f11d50a3a' used by 'Moq' matches identity 'System.Linq.Expressions, Version=7.0.0.0, Culture=neutral, PublicKeyToken=b03f5f7f11d50a3a' of 'System.Linq.Expressions', you may need to supply runtime policy\n",
      "\n"
     ]
    }
   ],
   "source": [
    "#r \"nuget: Moq\"\n",
    "using Moq;\n",
    "\n",
    "var mockObj = new Mock<IFoo2>();\n",
    "mockObj.Setup(x => x.M(It.Is<string>(arg => arg == \"Hello\"))).Returns(10);\n",
    "mockObj.Setup(x => x.M(It.Is<string>(arg => arg == \"World\"))).Throws(new InvalidOperationException());"
   ]
  },
  {
   "cell_type": "code",
   "execution_count": 4,
   "metadata": {
    "vscode": {
     "languageId": "csharp"
    }
   },
   "outputs": [
    {
     "data": {
      "text/html": [
       "<div class=\"dni-plaintext\"><pre>10</pre></div><style>\r\n",
       ".dni-code-hint {\r\n",
       "    font-style: italic;\r\n",
       "    overflow: hidden;\r\n",
       "    white-space: nowrap;\r\n",
       "}\r\n",
       ".dni-treeview {\r\n",
       "    white-space: nowrap;\r\n",
       "}\r\n",
       ".dni-treeview td {\r\n",
       "    vertical-align: top;\r\n",
       "    text-align: start;\r\n",
       "}\r\n",
       "details.dni-treeview {\r\n",
       "    padding-left: 1em;\r\n",
       "}\r\n",
       "table td {\r\n",
       "    text-align: start;\r\n",
       "}\r\n",
       "table tr { \r\n",
       "    vertical-align: top; \r\n",
       "    margin: 0em 0px;\r\n",
       "}\r\n",
       "table tr td pre \r\n",
       "{ \r\n",
       "    vertical-align: top !important; \r\n",
       "    margin: 0em 0px !important;\r\n",
       "} \r\n",
       "table th {\r\n",
       "    text-align: start;\r\n",
       "}\r\n",
       "</style>"
      ]
     },
     "execution_count": 4,
     "metadata": {},
     "output_type": "execute_result"
    }
   ],
   "source": [
    "mockObj.Object.M(\"Hello\")"
   ]
  },
  {
   "cell_type": "code",
   "execution_count": 5,
   "metadata": {
    "vscode": {
     "languageId": "csharp"
    }
   },
   "outputs": [
    {
     "ename": "Error",
     "evalue": "System.InvalidOperationException: Operation is not valid due to the current state of the object.\r\n   at Moq.Behaviors.ThrowException.Execute(Invocation invocation) in C:\\projects\\moq4\\src\\Moq\\Behaviors\\ThrowException.cs:line 22\r\n   at Moq.MethodCall.ExecuteCore(Invocation invocation) in C:\\projects\\moq4\\src\\Moq\\MethodCall.cs:line 110\r\n   at Moq.Setup.Execute(Invocation invocation) in C:\\projects\\moq4\\src\\Moq\\Setup.cs:line 84\r\n   at Moq.FindAndExecuteMatchingSetup.Handle(Invocation invocation, Mock mock) in C:\\projects\\moq4\\src\\Moq\\Interception\\InterceptionAspects.cs:line 95\r\n   at Moq.Mock.Moq.IInterceptor.Intercept(Invocation invocation) in C:\\projects\\moq4\\src\\Moq\\Interception\\Mock.cs:line 17\r\n   at Moq.CastleProxyFactory.Interceptor.Intercept(IInvocation underlying) in C:\\projects\\moq4\\src\\Moq\\Interception\\CastleProxyFactory.cs:line 107\r\n   at Castle.DynamicProxy.AbstractInvocation.Proceed()\r\n   at Castle.Proxies.IFoo2Proxy.M(String arg)\r\n   at Submission#7.<<Initialize>>d__0.MoveNext()\r\n--- End of stack trace from previous location ---\r\n   at Microsoft.CodeAnalysis.Scripting.ScriptExecutionState.RunSubmissionsAsync[TResult](ImmutableArray`1 precedingExecutors, Func`2 currentExecutor, StrongBox`1 exceptionHolderOpt, Func`2 catchExceptionOpt, CancellationToken cancellationToken)",
     "output_type": "error",
     "traceback": [
      "System.InvalidOperationException: Operation is not valid due to the current state of the object.\r\n   at Moq.Behaviors.ThrowException.Execute(Invocation invocation) in C:\\projects\\moq4\\src\\Moq\\Behaviors\\ThrowException.cs:line 22\r\n   at Moq.MethodCall.ExecuteCore(Invocation invocation) in C:\\projects\\moq4\\src\\Moq\\MethodCall.cs:line 110\r\n   at Moq.Setup.Execute(Invocation invocation) in C:\\projects\\moq4\\src\\Moq\\Setup.cs:line 84\r\n   at Moq.FindAndExecuteMatchingSetup.Handle(Invocation invocation, Mock mock) in C:\\projects\\moq4\\src\\Moq\\Interception\\InterceptionAspects.cs:line 95\r\n   at Moq.Mock.Moq.IInterceptor.Intercept(Invocation invocation) in C:\\projects\\moq4\\src\\Moq\\Interception\\Mock.cs:line 17\r\n   at Moq.CastleProxyFactory.Interceptor.Intercept(IInvocation underlying) in C:\\projects\\moq4\\src\\Moq\\Interception\\CastleProxyFactory.cs:line 107\r\n   at Castle.DynamicProxy.AbstractInvocation.Proceed()\r\n   at Castle.Proxies.IFoo2Proxy.M(String arg)\r\n   at Submission#7.<<Initialize>>d__0.MoveNext()\r\n--- End of stack trace from previous location ---\r\n   at Microsoft.CodeAnalysis.Scripting.ScriptExecutionState.RunSubmissionsAsync[TResult](ImmutableArray`1 precedingExecutors, Func`2 currentExecutor, StrongBox`1 exceptionHolderOpt, Func`2 catchExceptionOpt, CancellationToken cancellationToken)",
      "   at Moq.Behaviors.ThrowException.Execute(Invocation invocation) in C:\\projects\\moq4\\src\\Moq\\Behaviors\\ThrowException.cs:line 22",
      "   at Moq.MethodCall.ExecuteCore(Invocation invocation) in C:\\projects\\moq4\\src\\Moq\\MethodCall.cs:line 110",
      "   at Moq.Setup.Execute(Invocation invocation) in C:\\projects\\moq4\\src\\Moq\\Setup.cs:line 84",
      "   at Moq.FindAndExecuteMatchingSetup.Handle(Invocation invocation, Mock mock) in C:\\projects\\moq4\\src\\Moq\\Interception\\InterceptionAspects.cs:line 95",
      "   at Moq.Mock.Moq.IInterceptor.Intercept(Invocation invocation) in C:\\projects\\moq4\\src\\Moq\\Interception\\Mock.cs:line 17",
      "   at Moq.CastleProxyFactory.Interceptor.Intercept(IInvocation underlying) in C:\\projects\\moq4\\src\\Moq\\Interception\\CastleProxyFactory.cs:line 107",
      "   at Castle.DynamicProxy.AbstractInvocation.Proceed()",
      "   at Castle.Proxies.IFoo2Proxy.M(String arg)",
      "   at Submission#7.<<Initialize>>d__0.MoveNext()",
      "--- End of stack trace from previous location ---",
      "   at Microsoft.CodeAnalysis.Scripting.ScriptExecutionState.RunSubmissionsAsync[TResult](ImmutableArray`1 precedingExecutors, Func`2 currentExecutor, StrongBox`1 exceptionHolderOpt, Func`2 catchExceptionOpt, CancellationToken cancellationToken)"
     ]
    }
   ],
   "source": [
    "mockObj.Object.M(\"World\")"
   ]
  }
 ],
 "metadata": {
  "kernelspec": {
   "display_name": ".NET (C#)",
   "language": "C#",
   "name": ".net-csharp"
  },
  "language_info": {
   "file_extension": ".cs",
   "mimetype": "text/x-csharp",
   "name": "C#",
   "pygments_lexer": "csharp",
   "version": "11.0"
  },
  "orig_nbformat": 4
 },
 "nbformat": 4,
 "nbformat_minor": 2
}
