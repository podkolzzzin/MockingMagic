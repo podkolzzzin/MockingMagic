{
 "cells": [
  {
   "cell_type": "code",
   "execution_count": 1,
   "metadata": {
    "vscode": {
     "languageId": "csharp"
    }
   },
   "outputs": [
    {
     "data": {
      "text/html": [
       "<div><div></div><div></div><div><strong>Installed Packages</strong><ul><li><span>Castle.Core, 5.1.1</span></li></ul></div></div>"
      ]
     },
     "metadata": {},
     "output_type": "display_data"
    }
   ],
   "source": [
    "#r \"nuget: Castle.Core, 5.1.1\""
   ]
  },
  {
   "cell_type": "code",
   "execution_count": 2,
   "metadata": {
    "vscode": {
     "languageId": "csharp"
    }
   },
   "outputs": [],
   "source": [
    "public interface IFoo\n",
    "{\n",
    "  void Method();\n",
    "}"
   ]
  },
  {
   "cell_type": "code",
   "execution_count": 8,
   "metadata": {
    "vscode": {
     "languageId": "csharp"
    }
   },
   "outputs": [],
   "source": [
    "using Castle.DynamicProxy;\n",
    "\n",
    "public class Interceptor : StandardInterceptor\n",
    "{\n",
    "  protected override void PreProceed(IInvocation invocation)\n",
    "  {\n",
    "    Console.WriteLine($\"PreProceed {invocation.Method.Name} Arguments[{invocation.Arguments.Length}]\");\n",
    "    base.PreProceed(invocation);\n",
    "  }\n",
    "\n",
    "  protected override void PerformProceed(IInvocation invocation)\n",
    "  {\n",
    "    Console.WriteLine(\"PerformProceed\");\n",
    "   //base.PerformProceed(invocation);\n",
    "  }\n",
    "\n",
    "  protected override void PostProceed(IInvocation invocation)\n",
    "  {\n",
    "    Console.WriteLine(\"PostProceed\");\n",
    "    base.PostProceed(invocation);\n",
    "  }\n",
    "}\n",
    "\n",
    "\n",
    "public class ProxyFactory\n",
    "{\n",
    "  private readonly ProxyGenerator _generator;\n",
    "  \n",
    "  public ProxyFactory()\n",
    "  {\n",
    "    _generator = new ProxyGenerator();\n",
    "  }\n",
    "\n",
    "  public T GetProxy<T>() where T:class\n",
    "  {\n",
    "    return _generator.CreateInterfaceProxyWithoutTarget<T>(new Interceptor());\n",
    "  }\n",
    "}"
   ]
  },
  {
   "cell_type": "code",
   "execution_count": 9,
   "metadata": {
    "vscode": {
     "languageId": "csharp"
    }
   },
   "outputs": [
    {
     "name": "stdout",
     "output_type": "stream",
     "text": [
      "PreProceed Method Arguments[0]\n",
      "PerformProceed\n",
      "PostProceed\n"
     ]
    }
   ],
   "source": [
    "var factory = new ProxyFactory();\n",
    "var proxy = factory.GetProxy<IFoo>();\n",
    "proxy.Method();"
   ]
  },
  {
   "cell_type": "code",
   "execution_count": null,
   "metadata": {
    "vscode": {
     "languageId": "csharp"
    }
   },
   "outputs": [],
   "source": [
    "// DynamicProxyGenAssembly2\n",
    "public class FooGenerated : IFoo\n",
    "{\n",
    "    ctor(IInterceptor interceptor) {}\n",
    "\n",
    "    public int Method(int x, int y) {\n",
    "\n",
    "        var invocation = new Invocation(GetType().GetMethod(nameof(Method)), new object[2] { x, y })\n",
    "        \n",
    "        interceptor.PreProceed(invocation);\n",
    "        interceptor.PerformProceed(invocation);\n",
    "        interceptor.PostProceed(invocation);\n",
    "\n",
    "        return (int)invocation.ReturnValue;\n",
    "    }\n",
    "\n",
    "    public int Method2(string str) {\n",
    "        var invocation = new Invocation(GetType().GetMethod(nameof(Method2)), new object[1] { str });\n",
    "        \n",
    "        interceptor.PreProceed(invocation);\n",
    "        interceptor.PerformProceed(invocation);\n",
    "        interceptor.PostProceed(invocation);\n",
    "\n",
    "        return (int)invocation.ReturnValue;\n",
    "    }\n",
    "}"
   ]
  }
 ],
 "metadata": {
  "kernelspec": {
   "display_name": ".NET (C#)",
   "language": "C#",
   "name": ".net-csharp"
  },
  "language_info": {
   "file_extension": ".cs",
   "mimetype": "text/x-csharp",
   "name": "C#",
   "pygments_lexer": "csharp",
   "version": "11.0"
  },
  "orig_nbformat": 4
 },
 "nbformat": 4,
 "nbformat_minor": 2
}
