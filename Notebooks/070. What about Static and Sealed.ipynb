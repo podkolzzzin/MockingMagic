{
 "cells": [
  {
   "attachments": {},
   "cell_type": "markdown",
   "metadata": {},
   "source": [
    "## Is it possible to Mock static method? (or sealed)"
   ]
  },
  {
   "attachments": {},
   "cell_type": "markdown",
   "metadata": {},
   "source": [
    "[How .Net Mocking Frameworks Work Under the Hood](https://wrightfully.com/how-net-mocking-frameworks-work)\n",
    "\n"
   ]
  },
  {
   "attachments": {},
   "cell_type": "markdown",
   "metadata": {},
   "source": [
    "## Some Libs can Mock static\n",
    "* Telerik JustMock - $399 per developer\n",
    "* Typemock Isolator - $399 per developer, $990 per 5 build servers\n",
    "* MS Fakes - $5,999 per developer ($2,569 renewals). MS Fakes is only available as part of VS Enterprise and is not sold seperately.\n",
    "\n",
    "They all use [profiling api](https://learn.microsoft.com/en-us/dotnet/framework/unmanaged-api/profiling/profiling-overview?redirectedfrom=MSDN) - one day I'll make stream about it...\n",
    "\n",
    "- The problem: It needs to be installed on machine\n",
    "- I am not sure if it works anywhere else from Windows"
   ]
  },
  {
   "attachments": {},
   "cell_type": "markdown",
   "metadata": {},
   "source": [
    "# Is there another way?"
   ]
  },
  {
   "attachments": {},
   "cell_type": "markdown",
   "metadata": {},
   "source": [
    "![alt text](100.%20Image.png)"
   ]
  },
  {
   "attachments": {},
   "cell_type": "markdown",
   "metadata": {},
   "source": [
    "##### This sample works only on real runtime. Scripting runtime is not supports this"
   ]
  },
  {
   "cell_type": "code",
   "execution_count": 1,
   "metadata": {
    "vscode": {
     "languageId": "csharp"
    }
   },
   "outputs": [
    {
     "data": {
      "text/html": [
       "\r\n",
       "<div>\r\n",
       "    <div id='dotnet-interactive-this-cell-45456.Microsoft.DotNet.Interactive.Http.HttpPort' style='display: none'>\r\n",
       "        The below script needs to be able to find the current output cell; this is an easy method to get it.\r\n",
       "    </div>\r\n",
       "    <script type='text/javascript'>\r\n",
       "async function probeAddresses(probingAddresses) {\r\n",
       "    function timeout(ms, promise) {\r\n",
       "        return new Promise(function (resolve, reject) {\r\n",
       "            setTimeout(function () {\r\n",
       "                reject(new Error('timeout'))\r\n",
       "            }, ms)\r\n",
       "            promise.then(resolve, reject)\r\n",
       "        })\r\n",
       "    }\r\n",
       "\r\n",
       "    if (Array.isArray(probingAddresses)) {\r\n",
       "        for (let i = 0; i < probingAddresses.length; i++) {\r\n",
       "\r\n",
       "            let rootUrl = probingAddresses[i];\r\n",
       "\r\n",
       "            if (!rootUrl.endsWith('/')) {\r\n",
       "                rootUrl = `${rootUrl}/`;\r\n",
       "            }\r\n",
       "\r\n",
       "            try {\r\n",
       "                let response = await timeout(1000, fetch(`${rootUrl}discovery`, {\r\n",
       "                    method: 'POST',\r\n",
       "                    cache: 'no-cache',\r\n",
       "                    mode: 'cors',\r\n",
       "                    timeout: 1000,\r\n",
       "                    headers: {\r\n",
       "                        'Content-Type': 'text/plain'\r\n",
       "                    },\r\n",
       "                    body: probingAddresses[i]\r\n",
       "                }));\r\n",
       "\r\n",
       "                if (response.status == 200) {\r\n",
       "                    return rootUrl;\r\n",
       "                }\r\n",
       "            }\r\n",
       "            catch (e) { }\r\n",
       "        }\r\n",
       "    }\r\n",
       "}\r\n",
       "\r\n",
       "function loadDotnetInteractiveApi() {\r\n",
       "    probeAddresses([\"http://172.23.192.1:2060/\", \"http://172.23.96.1:2060/\", \"http://10.1.171.153:2060/\", \"http://192.168.1.183:2060/\", \"http://127.0.0.1:2060/\"])\r\n",
       "        .then((root) => {\r\n",
       "        // use probing to find host url and api resources\r\n",
       "        // load interactive helpers and language services\r\n",
       "        let dotnetInteractiveRequire = require.config({\r\n",
       "        context: '45456.Microsoft.DotNet.Interactive.Http.HttpPort',\r\n",
       "                paths:\r\n",
       "            {\r\n",
       "                'dotnet-interactive': `${root}resources`\r\n",
       "                }\r\n",
       "        }) || require;\r\n",
       "\r\n",
       "            window.dotnetInteractiveRequire = dotnetInteractiveRequire;\r\n",
       "\r\n",
       "            window.configureRequireFromExtension = function(extensionName, extensionCacheBuster) {\r\n",
       "                let paths = {};\r\n",
       "                paths[extensionName] = `${root}extensions/${extensionName}/resources/`;\r\n",
       "                \r\n",
       "                let internalRequire = require.config({\r\n",
       "                    context: extensionCacheBuster,\r\n",
       "                    paths: paths,\r\n",
       "                    urlArgs: `cacheBuster=${extensionCacheBuster}`\r\n",
       "                    }) || require;\r\n",
       "\r\n",
       "                return internalRequire\r\n",
       "            };\r\n",
       "        \r\n",
       "            dotnetInteractiveRequire([\r\n",
       "                    'dotnet-interactive/dotnet-interactive'\r\n",
       "                ],\r\n",
       "                function (dotnet) {\r\n",
       "                    dotnet.init(window);\r\n",
       "                },\r\n",
       "                function (error) {\r\n",
       "                    console.log(error);\r\n",
       "                }\r\n",
       "            );\r\n",
       "        })\r\n",
       "        .catch(error => {console.log(error);});\r\n",
       "    }\r\n",
       "\r\n",
       "// ensure `require` is available globally\r\n",
       "if ((typeof(require) !==  typeof(Function)) || (typeof(require.config) !== typeof(Function))) {\r\n",
       "    let require_script = document.createElement('script');\r\n",
       "    require_script.setAttribute('src', 'https://cdnjs.cloudflare.com/ajax/libs/require.js/2.3.6/require.min.js');\r\n",
       "    require_script.setAttribute('type', 'text/javascript');\r\n",
       "    \r\n",
       "    \r\n",
       "    require_script.onload = function() {\r\n",
       "        loadDotnetInteractiveApi();\r\n",
       "    };\r\n",
       "\r\n",
       "    document.getElementsByTagName('head')[0].appendChild(require_script);\r\n",
       "}\r\n",
       "else {\r\n",
       "    loadDotnetInteractiveApi();\r\n",
       "}\r\n",
       "\r\n",
       "    </script>\r\n",
       "</div>"
      ]
     },
     "metadata": {},
     "output_type": "display_data"
    },
    {
     "data": {
      "text/html": [
       "<div><div></div><div></div><div><strong>Installed Packages</strong><ul><li><span>Lib.Harmony, 2.2.2</span></li></ul></div></div>"
      ]
     },
     "metadata": {},
     "output_type": "display_data"
    }
   ],
   "source": [
    "#r \"nuget: Lib.Harmony\"\n",
    "\n",
    "using HarmonyLib;\n",
    "\n",
    "var harmony = new Harmony(\"com.company.project.product\");"
   ]
  },
  {
   "cell_type": "code",
   "execution_count": null,
   "metadata": {
    "vscode": {
     "languageId": "csharp"
    }
   },
   "outputs": [],
   "source": [
    "static class SomeUtils \n",
    "{\n",
    "    public static int Method(int x, int y) \n",
    "    {\n",
    "        Console.WriteLine(\"SomeUtils.Method\");\n",
    "        return x + y;\n",
    "    }\n",
    "}"
   ]
  },
  {
   "cell_type": "code",
   "execution_count": null,
   "metadata": {
    "vscode": {
     "languageId": "csharp"
    }
   },
   "outputs": [],
   "source": [
    "public static class HarmonyHelper \n",
    "{\n",
    "    public static bool Prefix(object __result, object __state) \n",
    "    {\n",
    "        Console.WriteLine(__result);\n",
    "        return false;\n",
    "    }\n",
    "\n",
    "    public static int Postfix(int __result, object __state) \n",
    "    {\n",
    "        Console.WriteLine(__result);\n",
    "        return 1;\n",
    "    }\n",
    "}"
   ]
  },
  {
   "cell_type": "code",
   "execution_count": null,
   "metadata": {
    "vscode": {
     "languageId": "csharp"
    }
   },
   "outputs": [],
   "source": [
    "using HarmonyLib;\n",
    "using System.Reflection;\n",
    "\n",
    "var harmony = new Harmony(\"com.company.project.product\");\n",
    "\n",
    "var method = typeof(SomeUtils).GetMethod(\"Method\", BindingFlags.Static | BindingFlags.Public);\n",
    "var prefix = typeof(HarmonyHelper).GetMethod(\"Prefix\", BindingFlags.Static | BindingFlags.Public);\n",
    "var postfix = typeof(HarmonyHelper).GetMethod(\"Postfix\", BindingFlags.Static | BindingFlags.Public);\n",
    "\n",
    "harmony.Patch(method, new HarmonyMethod(prefix), new HarmonyMethod(postfix));\n",
    "int result = SomeUtils.Method(10, 20);\n",
    "Console.WriteLine(result);\n",
    "\n",
    "static class SomeUtils \n",
    "{\n",
    "  public static int Method(int x, int y) \n",
    "  {\n",
    "    Console.WriteLine(\"SomeUtils.Method\");\n",
    "    return x + y;\n",
    "  }\n",
    "}\n",
    "\n",
    "public static class HarmonyHelper \n",
    "{\n",
    "  public static bool Prefix(object __result, object __state) \n",
    "  {\n",
    "    Console.WriteLine(__result);\n",
    "    return true;\n",
    "  }\n",
    "\n",
    "  public static int Postfix(int __result, object __state) \n",
    "  {\n",
    "    Console.WriteLine(__result);\n",
    "    return 1;\n",
    "  }\n",
    "}"
   ]
  },
  {
   "attachments": {},
   "cell_type": "markdown",
   "metadata": {},
   "source": [
    "```CSharp\n",
    "var staticMock = Mock.Static(() => \n",
    "    SomeUtils.Method(\n",
    "        Arg.Is<int>(arg => arg == 100),\n",
    "        Arg.Is<int>(arg => arg == 200)))\n",
    "    .Returns(50);\n",
    "\n",
    "    \n",
    "using (staticMock) \n",
    "{\n",
    "    // Perform Test\n",
    "    // Call some method that calles SomeUtils.Method\n",
    "    Assert.Equals(50, SomeUtils.Method(100, 200));\n",
    "}"
   ]
  },
  {
   "attachments": {},
   "cell_type": "markdown",
   "metadata": {},
   "source": []
  }
 ],
 "metadata": {
  "kernelspec": {
   "display_name": ".NET (C#)",
   "language": "C#",
   "name": ".net-csharp"
  },
  "language_info": {
   "name": "C#"
  },
  "orig_nbformat": 4
 },
 "nbformat": 4,
 "nbformat_minor": 2
}
