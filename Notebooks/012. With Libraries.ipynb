{
 "cells": [
  {
   "cell_type": "code",
   "execution_count": 2,
   "metadata": {
    "vscode": {
     "languageId": "csharp"
    }
   },
   "outputs": [],
   "source": [
    "public record Entity(int Value);\n",
    "\n",
    "public interface IRepository \n",
    "{\n",
    "    Entity GetEntity();\n",
    "}\n",
    "\n",
    "public class Repository\n",
    "{\n",
    "  public Entity GetEntity() => new (50); // Heavy query to database\n",
    "}\n",
    "\n",
    "public class Service\n",
    "{\n",
    "  private readonly IRepository _repository;\n",
    "  public Service(IRepository repository)\n",
    "  {\n",
    "    _repository = repository;\n",
    "  }\n",
    "\n",
    "  public string Logic()\n",
    "  {\n",
    "    var e = _repository.GetEntity();\n",
    "    return e.Value switch {\n",
    "      > 100 => \"Heavy logic\",\n",
    "      > 50 => \"Light logic\",\n",
    "      > 0 => \"Weightless logic\",\n",
    "      _ => \"Gravity false\"\n",
    "    };\n",
    "  }\n",
    "}"
   ]
  },
  {
   "cell_type": "code",
   "execution_count": 3,
   "metadata": {
    "vscode": {
     "languageId": "csharp"
    }
   },
   "outputs": [
    {
     "data": {
      "text/html": [
       "<div><div></div><div></div><div><strong>Installed Packages</strong><ul><li><span>FluentAssertions, 6.11.0</span></li></ul></div></div>"
      ]
     },
     "metadata": {},
     "output_type": "display_data"
    }
   ],
   "source": [
    "#r \"nuget:FluentAssertions\""
   ]
  },
  {
   "cell_type": "code",
   "execution_count": null,
   "metadata": {
    "vscode": {
     "languageId": "csharp"
    }
   },
   "outputs": [],
   "source": [
    "#r \"nuget: Moq\"\n",
    "\n",
    "using Moq;\n",
    "using FluentAssertions;\n",
    "\n",
    "var repoMock = new Mock<IRepository>();\n",
    "var service = new Service(repoMock.Object);\n",
    "\n",
    "repoMock.Setup(x => x.GetEntity()).Returns(new Entity(101));\n",
    "\n",
    "service.Logic().Should().Be(\"Heavy logic\");"
   ]
  },
  {
   "cell_type": "code",
   "execution_count": 5,
   "metadata": {
    "vscode": {
     "languageId": "csharp"
    }
   },
   "outputs": [
    {
     "data": {
      "text/html": [
       "<div><div></div><div></div><div><strong>Installed Packages</strong><ul><li><span>NSubstitute, 5.0.0</span></li></ul></div></div>"
      ]
     },
     "metadata": {},
     "output_type": "display_data"
    },
    {
     "name": "stderr",
     "output_type": "stream",
     "text": [
      "\n",
      "warning CS1701: Assuming assembly reference 'System.Net.Http, Version=6.0.0.0, Culture=neutral, PublicKeyToken=b03f5f7f11d50a3a' used by 'FluentAssertions' matches identity 'System.Net.Http, Version=7.0.0.0, Culture=neutral, PublicKeyToken=b03f5f7f11d50a3a' of 'System.Net.Http', you may need to supply runtime policy\n",
      "\n",
      "warning CS1701: Assuming assembly reference 'System.Data.Common, Version=6.0.0.0, Culture=neutral, PublicKeyToken=b03f5f7f11d50a3a' used by 'FluentAssertions' matches identity 'System.Data.Common, Version=7.0.0.0, Culture=neutral, PublicKeyToken=b03f5f7f11d50a3a' of 'System.Data.Common', you may need to supply runtime policy\n",
      "\n"
     ]
    }
   ],
   "source": [
    "#r \"nuget:NSubstitute, 5.0.0\"\n",
    "\n",
    "using NSubstitute;\n",
    "using FluentAssertions;\n",
    "\n",
    "var repo = Substitute.For<IRepository>();\n",
    "var service = new Service(repo);\n",
    "\n",
    "repo.GetEntity().Returns(new Entity(101));\n",
    "\n",
    "service.Logic().Should().Be(\"Heavy logic\");"
   ]
  }
 ],
 "metadata": {
  "kernelspec": {
   "display_name": ".NET (C#)",
   "language": "C#",
   "name": ".net-csharp"
  },
  "language_info": {
   "file_extension": ".cs",
   "mimetype": "text/x-csharp",
   "name": "C#",
   "pygments_lexer": "csharp",
   "version": "11.0"
  },
  "orig_nbformat": 4
 },
 "nbformat": 4,
 "nbformat_minor": 2
}
