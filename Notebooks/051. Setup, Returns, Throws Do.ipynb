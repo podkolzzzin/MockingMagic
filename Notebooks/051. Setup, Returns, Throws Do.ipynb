{
 "cells": [
  {
   "attachments": {},
   "cell_type": "markdown",
   "metadata": {},
   "source": [
    "## Prev Created Code"
   ]
  },
  {
   "cell_type": "code",
   "execution_count": 1,
   "metadata": {
    "vscode": {
     "languageId": "csharp"
    }
   },
   "outputs": [
    {
     "data": {
      "text/html": [
       "\r\n",
       "<div>\r\n",
       "    <div id='dotnet-interactive-this-cell-42980.Microsoft.DotNet.Interactive.Http.HttpPort' style='display: none'>\r\n",
       "        The below script needs to be able to find the current output cell; this is an easy method to get it.\r\n",
       "    </div>\r\n",
       "    <script type='text/javascript'>\r\n",
       "async function probeAddresses(probingAddresses) {\r\n",
       "    function timeout(ms, promise) {\r\n",
       "        return new Promise(function (resolve, reject) {\r\n",
       "            setTimeout(function () {\r\n",
       "                reject(new Error('timeout'))\r\n",
       "            }, ms)\r\n",
       "            promise.then(resolve, reject)\r\n",
       "        })\r\n",
       "    }\r\n",
       "\r\n",
       "    if (Array.isArray(probingAddresses)) {\r\n",
       "        for (let i = 0; i < probingAddresses.length; i++) {\r\n",
       "\r\n",
       "            let rootUrl = probingAddresses[i];\r\n",
       "\r\n",
       "            if (!rootUrl.endsWith('/')) {\r\n",
       "                rootUrl = `${rootUrl}/`;\r\n",
       "            }\r\n",
       "\r\n",
       "            try {\r\n",
       "                let response = await timeout(1000, fetch(`${rootUrl}discovery`, {\r\n",
       "                    method: 'POST',\r\n",
       "                    cache: 'no-cache',\r\n",
       "                    mode: 'cors',\r\n",
       "                    timeout: 1000,\r\n",
       "                    headers: {\r\n",
       "                        'Content-Type': 'text/plain'\r\n",
       "                    },\r\n",
       "                    body: probingAddresses[i]\r\n",
       "                }));\r\n",
       "\r\n",
       "                if (response.status == 200) {\r\n",
       "                    return rootUrl;\r\n",
       "                }\r\n",
       "            }\r\n",
       "            catch (e) { }\r\n",
       "        }\r\n",
       "    }\r\n",
       "}\r\n",
       "\r\n",
       "function loadDotnetInteractiveApi() {\r\n",
       "    probeAddresses([\"http://172.23.192.1:2058/\", \"http://172.23.96.1:2058/\", \"http://10.1.171.153:2058/\", \"http://192.168.1.183:2058/\", \"http://127.0.0.1:2058/\"])\r\n",
       "        .then((root) => {\r\n",
       "        // use probing to find host url and api resources\r\n",
       "        // load interactive helpers and language services\r\n",
       "        let dotnetInteractiveRequire = require.config({\r\n",
       "        context: '42980.Microsoft.DotNet.Interactive.Http.HttpPort',\r\n",
       "                paths:\r\n",
       "            {\r\n",
       "                'dotnet-interactive': `${root}resources`\r\n",
       "                }\r\n",
       "        }) || require;\r\n",
       "\r\n",
       "            window.dotnetInteractiveRequire = dotnetInteractiveRequire;\r\n",
       "\r\n",
       "            window.configureRequireFromExtension = function(extensionName, extensionCacheBuster) {\r\n",
       "                let paths = {};\r\n",
       "                paths[extensionName] = `${root}extensions/${extensionName}/resources/`;\r\n",
       "                \r\n",
       "                let internalRequire = require.config({\r\n",
       "                    context: extensionCacheBuster,\r\n",
       "                    paths: paths,\r\n",
       "                    urlArgs: `cacheBuster=${extensionCacheBuster}`\r\n",
       "                    }) || require;\r\n",
       "\r\n",
       "                return internalRequire\r\n",
       "            };\r\n",
       "        \r\n",
       "            dotnetInteractiveRequire([\r\n",
       "                    'dotnet-interactive/dotnet-interactive'\r\n",
       "                ],\r\n",
       "                function (dotnet) {\r\n",
       "                    dotnet.init(window);\r\n",
       "                },\r\n",
       "                function (error) {\r\n",
       "                    console.log(error);\r\n",
       "                }\r\n",
       "            );\r\n",
       "        })\r\n",
       "        .catch(error => {console.log(error);});\r\n",
       "    }\r\n",
       "\r\n",
       "// ensure `require` is available globally\r\n",
       "if ((typeof(require) !==  typeof(Function)) || (typeof(require.config) !== typeof(Function))) {\r\n",
       "    let require_script = document.createElement('script');\r\n",
       "    require_script.setAttribute('src', 'https://cdnjs.cloudflare.com/ajax/libs/require.js/2.3.6/require.min.js');\r\n",
       "    require_script.setAttribute('type', 'text/javascript');\r\n",
       "    \r\n",
       "    \r\n",
       "    require_script.onload = function() {\r\n",
       "        loadDotnetInteractiveApi();\r\n",
       "    };\r\n",
       "\r\n",
       "    document.getElementsByTagName('head')[0].appendChild(require_script);\r\n",
       "}\r\n",
       "else {\r\n",
       "    loadDotnetInteractiveApi();\r\n",
       "}\r\n",
       "\r\n",
       "    </script>\r\n",
       "</div>"
      ]
     },
     "metadata": {},
     "output_type": "display_data"
    },
    {
     "data": {
      "text/html": [
       "<div><div></div><div></div><div><strong>Installed Packages</strong><ul><li><span>Castle.Core, 5.1.1</span></li></ul></div></div>"
      ]
     },
     "metadata": {},
     "output_type": "display_data"
    }
   ],
   "source": [
    "#r \"nuget: Castle.Core\"\n",
    "\n",
    "using System.Collections.Immutable;\n",
    "using System.Linq.Expressions;\n",
    "using System.Reflection;\n",
    "using Castle.DynamicProxy;\n",
    "\n",
    "public class Executed\n",
    "{\n",
    "  private readonly Func<int, bool> _validate;\n",
    "  private readonly string _message;\n",
    "\n",
    "  public Executed(Func<int, bool> validate, string message)\n",
    "  {\n",
    "    _validate = validate;\n",
    "    _message = message;\n",
    "  }\n",
    "\n",
    "  public void Verify(int count)\n",
    "  {\n",
    "    if (!_validate.Invoke(count))\n",
    "    {\n",
    "      throw new Exception($\"Executed wrong number of times. Expected: {_message} Executed: {count}\");\n",
    "    }\n",
    "  }\n",
    "\n",
    "  public static Executed Once => new (x => x == 1, \"Once\");\n",
    "  public static Executed Never => new (x => x == 0, \"Never\");\n",
    "  public static Executed AtLeast(int times) => new (x => x >= times, $\"At least {times}\");\n",
    "  public static Executed AtMost(int times) => new (x => x <= times, $\"At most {times}\");\n",
    "}\n",
    "\n",
    "public class Arg\n",
    "{\n",
    "  public static T IsAny<T>() => throw new InvalidOperationException();\n",
    "  public static T Is<T>(Func<T, bool> matcher) => throw new InvalidOperationException();\n",
    "}\n",
    "\n",
    "public class MockInvocation \n",
    "{\n",
    "  public MockInvocation(IInvocation invocation)\n",
    "  {\n",
    "    Arguments = invocation.Arguments.ToImmutableArray();\n",
    "    Method = invocation.Method;\n",
    "  }\n",
    "  \n",
    "  public MethodInfo Method { get; }\n",
    "  public ImmutableArray<object> Arguments { get; }\n",
    "}\n",
    "\n",
    "public class MockInterceptor : StandardInterceptor\n",
    "{\n",
    "  private readonly List<MockInvocation> _invocations = new();\n",
    "\n",
    "  public IReadOnlyList<MockInvocation> Invocations => _invocations;\n",
    "\n",
    "  protected override void PreProceed(IInvocation invocation)\n",
    "  {\n",
    "    _invocations.Add(new MockInvocation(invocation));\n",
    "    base.PreProceed(invocation);\n",
    "  }\n",
    "\n",
    "  protected override void PerformProceed(IInvocation invocation)\n",
    "  {\n",
    "  }\n",
    "}\n",
    "\n",
    "public class ProxyFactory\n",
    "{\n",
    "  private readonly ProxyGenerator _generator = new ();\n",
    "\n",
    "  public T GetProxy<T>(IInterceptor interceptor) where T:class => _generator.CreateInterfaceProxyWithoutTarget<T>(interceptor);\n",
    "}\n",
    "\n",
    "public static class FactoryProvider \n",
    "{\n",
    "  public static ProxyFactory Factory {get;} = new ProxyFactory();\n",
    "}\n",
    "\n",
    "public class Visitor : ExpressionVisitor\n",
    "{\n",
    "  private static readonly MethodInfo IsMethod = typeof(Arg).GetMethods(BindingFlags.Static | BindingFlags.Public).Single(x => x.Name == \"Is\");\n",
    "  public MethodInfo Method { get; private set; }\n",
    "  public IReadOnlyList<Func<object, bool>> ArgumentValidators { get; private set; }\n",
    "  protected override Expression VisitMethodCall(MethodCallExpression node)\n",
    "  {\n",
    "    Method = node.Method;\n",
    "    var argumentValidators = new List<Func<object, bool>>();\n",
    "    foreach (var argument in node.Arguments)\n",
    "    {\n",
    "      if (argument.NodeType == ExpressionType.Constant)\n",
    "      {\n",
    "        argumentValidators.Add(x => x.Equals(((ConstantExpression)argument).Value));\n",
    "      }\n",
    "      else if (argument.NodeType == ExpressionType.Call)\n",
    "      {\n",
    "        VisitItExpression(argumentValidators, (MethodCallExpression)argument);\n",
    "      }\n",
    "    }\n",
    "\n",
    "    ArgumentValidators = argumentValidators;\n",
    "    return node;\n",
    "  }\n",
    "  \n",
    "  private void VisitItExpression(List<Func<object,bool>> argumentValidators, MethodCallExpression argument)\n",
    "  {\n",
    "    if (argument.Method.DeclaringType != typeof(Arg))\n",
    "    {\n",
    "      throw new InvalidOperationException(\"Only Arg.Is* is supported\");\n",
    "    }\n",
    "    else if (argument.Method.IsGenericMethod)\n",
    "    {\n",
    "      var genericMethodDefinition = argument.Method.GetGenericMethodDefinition();\n",
    "      if (genericMethodDefinition == IsMethod)\n",
    "      {\n",
    "        argumentValidators.Add(VisitIsMethod(argument));\n",
    "      }\n",
    "      // Handle Other Methods...\n",
    "    }\n",
    "  }\n",
    "\n",
    "  private Func<object, bool> VisitIsMethod(MethodCallExpression argument)\n",
    "  {\n",
    "    var arg = (LambdaExpression)argument.Arguments.Single(); // We know that Arg.Is has only one argument\n",
    "    return BuildArgumentValidator(arg.Parameters.Single().Type, arg);\n",
    "  }\n",
    "\n",
    "  private Func<object, bool> BuildArgumentValidator(Type castToType, Expression validateExpression)\n",
    "  {\n",
    "    var arg = Expression.Parameter(typeof(object));\n",
    "    var casted = Expression.Convert(arg, castToType);\n",
    "    var body = Expression.Invoke(validateExpression, casted);\n",
    "    return Expression.Lambda<Func<object, bool>>(body, arg).Compile();\n",
    "  }\n",
    "}\n",
    "\n",
    "public class MockInvocationMatch\n",
    "{\n",
    "  private readonly MethodInfo _method;\n",
    "  private readonly IReadOnlyList<Func<object, bool>> _argumentValidators;\n",
    "\n",
    "  public MockInvocationMatch(Expression expression)\n",
    "  {\n",
    "    var visitor = new Visitor();\n",
    "    visitor.Visit(expression);\n",
    "    (_method, _argumentValidators) = (visitor.Method, visitor.ArgumentValidators);\n",
    "  }\n",
    "  public bool IsMatch(MockInvocation invocation) => invocation.Method == _method && invocation.Arguments.Zip(_argumentValidators, (x, y) => y(x)).All(x => x);\n",
    "}\n",
    "\n",
    "\n",
    "public class MockObject<T>  where T : class \n",
    "{\n",
    "  private readonly Lazy<T> _lazy;\n",
    "  private readonly MockInterceptor _interceptor = new();\n",
    "  \n",
    "  public MockObject() \n",
    "  {\n",
    "    _lazy = new Lazy<T>(CreateInstance);\n",
    "  }\n",
    "\n",
    "  public void Verify(Expression<Action<T>> action, Executed times)\n",
    "  {\n",
    "    var invocationMatch = new MockInvocationMatch(action);\n",
    "    times.Verify(_interceptor.Invocations.Count(x => invocationMatch.IsMatch(x)));\n",
    "  }\n",
    "\n",
    "  public T Object => _lazy.Value;\n",
    "\n",
    "  private T CreateInstance() => FactoryProvider.Factory.GetProxy<T>(_interceptor);\n",
    "}"
   ]
  },
  {
   "attachments": {},
   "cell_type": "markdown",
   "metadata": {},
   "source": [
    "## New code"
   ]
  },
  {
   "attachments": {},
   "cell_type": "markdown",
   "metadata": {},
   "source": [
    "``` CSharp\n",
    "public class MockObject<T>  where T : class \n",
    "{\n",
    "  private readonly MockInterceptor _interceptor = new();\n",
    "  // ...\n",
    "\n",
    "  public SetupVoidMethodBuilder<T> Setup(Expression<Action<T>> action) => new (_interceptor, action);\n",
    "  public SetupFuncMethodBuilder<T, TResult> Setup<TResult>(Expression<Func<T, TResult>> action) => new (_interceptor, action);\n",
    "}"
   ]
  },
  {
   "attachments": {},
   "cell_type": "markdown",
   "metadata": {},
   "source": [
    "```CSharp\n",
    "public class MockInterceptor : StandardInterceptor\n",
    "{\n",
    "    public Action<IInvocation>? Perform { get; set; }\n",
    "\n",
    "    protected override void PerformProceed(IInvocation invocation) => Perform?.Invoke(invocation);\n",
    "    // ...\n",
    "}"
   ]
  },
  {
   "cell_type": "code",
   "execution_count": 2,
   "metadata": {
    "vscode": {
     "languageId": "csharp"
    }
   },
   "outputs": [
    {
     "name": "stderr",
     "output_type": "stream",
     "text": [
      "\n",
      "(7,29): warning CS8632: The annotation for nullable reference types should only be used in code within a '#nullable' annotations context.\n",
      "\n"
     ]
    }
   ],
   "source": [
    "public class MockInterceptor : StandardInterceptor\n",
    "{\n",
    "  private readonly List<MockInvocation> _invocations = new();\n",
    "\n",
    "  public IReadOnlyList<MockInvocation> Invocations => _invocations;\n",
    "\n",
    "  public Action<IInvocation>? Perform { get; set; }\n",
    "\n",
    "  protected override void PreProceed(IInvocation invocation)\n",
    "  {\n",
    "    _invocations.Add(new MockInvocation(invocation));\n",
    "    base.PreProceed(invocation);\n",
    "  }\n",
    "\n",
    "  protected override void PerformProceed(IInvocation invocation) => Perform?.Invoke(invocation);\n",
    "}"
   ]
  },
  {
   "cell_type": "code",
   "execution_count": 3,
   "metadata": {
    "vscode": {
     "languageId": "csharp"
    }
   },
   "outputs": [
    {
     "name": "stderr",
     "output_type": "stream",
     "text": [
      "\n",
      "(4,20): warning CS8632: The annotation for nullable reference types should only be used in code within a '#nullable' annotations context.\n",
      "\n"
     ]
    }
   ],
   "source": [
    "public class SetupVoidMethodBuilder<T>\n",
    "{\n",
    "  private readonly MockInterceptor _interceptor;\n",
    "  private Exception? _expressionToThrow;\n",
    "\n",
    "  protected SetupVoidMethodBuilder(MockInterceptor interceptor, MockInvocationMatch invocationMatch)\n",
    "  {\n",
    "    _interceptor = interceptor;\n",
    "    _interceptor.Perform += invocation =>\n",
    "    {\n",
    "      if (invocationMatch.IsMatch(new MockInvocation(invocation)))\n",
    "      {\n",
    "        Execute(invocation);\n",
    "      }\n",
    "    };\n",
    "  }\n",
    "  protected virtual void Execute(IInvocation invocation)\n",
    "  {\n",
    "    if (_expressionToThrow != null)\n",
    "      throw _expressionToThrow;\n",
    "  }\n",
    "\n",
    "  public SetupVoidMethodBuilder(MockInterceptor interceptor, Expression<Action<T>> action)\n",
    "    : this(interceptor, new MockInvocationMatch(action))\n",
    "  {\n",
    "  }\n",
    "\n",
    "  public void Throws(Exception exception) => _expressionToThrow = exception;\n",
    "}"
   ]
  },
  {
   "cell_type": "code",
   "execution_count": 4,
   "metadata": {
    "vscode": {
     "languageId": "csharp"
    }
   },
   "outputs": [
    {
     "name": "stderr",
     "output_type": "stream",
     "text": [
      "\n",
      "(3,18): warning CS8632: The annotation for nullable reference types should only be used in code within a '#nullable' annotations context.\n",
      "\n"
     ]
    }
   ],
   "source": [
    "public class SetupFuncMethodBuilder<T, TResult> : SetupVoidMethodBuilder<T>\n",
    "{\n",
    "  private TResult? _result;\n",
    "\n",
    "  public SetupFuncMethodBuilder(MockInterceptor interceptor, Expression<Func<T, TResult>> action)\n",
    "    : base(interceptor, new MockInvocationMatch(action))\n",
    "  {\n",
    "  }\n",
    "\n",
    "  public void Returns(TResult value)\n",
    "  {\n",
    "    _result = value;\n",
    "  }\n",
    "\n",
    "  protected override void Execute(IInvocation invocation)\n",
    "  {\n",
    "    base.Execute(invocation);\n",
    "    if (_result != null)\n",
    "    {\n",
    "      invocation.ReturnValue = _result;\n",
    "    }\n",
    "  }\n",
    "}"
   ]
  },
  {
   "cell_type": "code",
   "execution_count": 5,
   "metadata": {
    "vscode": {
     "languageId": "csharp"
    }
   },
   "outputs": [],
   "source": [
    "public class MockObject<T> where T : class\n",
    "{\n",
    "  private readonly Lazy<T> _lazy;\n",
    "  private readonly MockInterceptor _interceptor = new();\n",
    "\n",
    "  public MockObject()\n",
    "  {\n",
    "    _lazy = new Lazy<T>(CreateInstance);\n",
    "  }\n",
    "\n",
    "  public SetupVoidMethodBuilder<T> Setup(Expression<Action<T>> action) => new(_interceptor, action);\n",
    "  public SetupFuncMethodBuilder<T, TResult> Setup<TResult>(Expression<Func<T, TResult>> action) => new(_interceptor, action);\n",
    "\n",
    "  public void Verify(Expression<Action<T>> action, Executed times)\n",
    "  {\n",
    "    var invocationMatch = new MockInvocationMatch(action);\n",
    "    times.Verify(_interceptor.Invocations.Count(x => invocationMatch.IsMatch(x)));\n",
    "  }\n",
    "\n",
    "  public T Object => _lazy.Value;\n",
    "\n",
    "  private T CreateInstance() => FactoryProvider.Factory.GetProxy<T>(_interceptor);\n",
    "}"
   ]
  },
  {
   "attachments": {},
   "cell_type": "markdown",
   "metadata": {},
   "source": [
    "## Demo"
   ]
  },
  {
   "cell_type": "code",
   "execution_count": 6,
   "metadata": {
    "vscode": {
     "languageId": "csharp"
    }
   },
   "outputs": [],
   "source": [
    "interface IFoo2\n",
    "{\n",
    "    int M(string arg);\n",
    "}\n",
    "\n",
    "var mockObj = new MockObject<IFoo2>();"
   ]
  },
  {
   "cell_type": "code",
   "execution_count": 7,
   "metadata": {
    "vscode": {
     "languageId": "csharp"
    }
   },
   "outputs": [],
   "source": [
    "mockObj.Setup(x => x.M(Arg.Is<string>(arg => arg == \"Hello\"))).Returns(10);\n",
    "mockObj.Setup(x => x.M(Arg.Is<string>(arg => arg == \"World\"))).Throws(new InvalidOperationException());"
   ]
  },
  {
   "cell_type": "code",
   "execution_count": 8,
   "metadata": {
    "vscode": {
     "languageId": "csharp"
    }
   },
   "outputs": [
    {
     "data": {
      "text/html": [
       "<div class=\"dni-plaintext\"><pre>10</pre></div><style>\r\n",
       ".dni-code-hint {\r\n",
       "    font-style: italic;\r\n",
       "    overflow: hidden;\r\n",
       "    white-space: nowrap;\r\n",
       "}\r\n",
       ".dni-treeview {\r\n",
       "    white-space: nowrap;\r\n",
       "}\r\n",
       ".dni-treeview td {\r\n",
       "    vertical-align: top;\r\n",
       "    text-align: start;\r\n",
       "}\r\n",
       "details.dni-treeview {\r\n",
       "    padding-left: 1em;\r\n",
       "}\r\n",
       "table td {\r\n",
       "    text-align: start;\r\n",
       "}\r\n",
       "table tr { \r\n",
       "    vertical-align: top; \r\n",
       "    margin: 0em 0px;\r\n",
       "}\r\n",
       "table tr td pre \r\n",
       "{ \r\n",
       "    vertical-align: top !important; \r\n",
       "    margin: 0em 0px !important;\r\n",
       "} \r\n",
       "table th {\r\n",
       "    text-align: start;\r\n",
       "}\r\n",
       "</style>"
      ]
     },
     "execution_count": 8,
     "metadata": {},
     "output_type": "execute_result"
    }
   ],
   "source": [
    "mockObj.Object.M(\"Hello\")"
   ]
  },
  {
   "cell_type": "code",
   "execution_count": 9,
   "metadata": {
    "vscode": {
     "languageId": "csharp"
    }
   },
   "outputs": [
    {
     "ename": "Error",
     "evalue": "System.InvalidOperationException: Operation is not valid due to the current state of the object.\r\n   at Submission#5.SetupVoidMethodBuilder`1.Execute(IInvocation invocation)\r\n   at Submission#6.SetupFuncMethodBuilder`2.Execute(IInvocation invocation)\r\n   at Submission#5.SetupVoidMethodBuilder`1.<>c__DisplayClass2_0.<.ctor>b__0(IInvocation invocation)\r\n   at Submission#4.MockInterceptor.PerformProceed(IInvocation invocation)\r\n   at Castle.DynamicProxy.StandardInterceptor.Intercept(IInvocation invocation)\r\n   at Castle.DynamicProxy.AbstractInvocation.Proceed()\r\n   at Castle.Proxies.IFoo2Proxy.M(String arg)\r\n   at Submission#11.<<Initialize>>d__0.MoveNext()\r\n--- End of stack trace from previous location ---\r\n   at Microsoft.CodeAnalysis.Scripting.ScriptExecutionState.RunSubmissionsAsync[TResult](ImmutableArray`1 precedingExecutors, Func`2 currentExecutor, StrongBox`1 exceptionHolderOpt, Func`2 catchExceptionOpt, CancellationToken cancellationToken)",
     "output_type": "error",
     "traceback": [
      "System.InvalidOperationException: Operation is not valid due to the current state of the object.\r\n   at Submission#5.SetupVoidMethodBuilder`1.Execute(IInvocation invocation)\r\n   at Submission#6.SetupFuncMethodBuilder`2.Execute(IInvocation invocation)\r\n   at Submission#5.SetupVoidMethodBuilder`1.<>c__DisplayClass2_0.<.ctor>b__0(IInvocation invocation)\r\n   at Submission#4.MockInterceptor.PerformProceed(IInvocation invocation)\r\n   at Castle.DynamicProxy.StandardInterceptor.Intercept(IInvocation invocation)\r\n   at Castle.DynamicProxy.AbstractInvocation.Proceed()\r\n   at Castle.Proxies.IFoo2Proxy.M(String arg)\r\n   at Submission#11.<<Initialize>>d__0.MoveNext()\r\n--- End of stack trace from previous location ---\r\n   at Microsoft.CodeAnalysis.Scripting.ScriptExecutionState.RunSubmissionsAsync[TResult](ImmutableArray`1 precedingExecutors, Func`2 currentExecutor, StrongBox`1 exceptionHolderOpt, Func`2 catchExceptionOpt, CancellationToken cancellationToken)",
      "   at Submission#5.SetupVoidMethodBuilder`1.Execute(IInvocation invocation)",
      "   at Submission#6.SetupFuncMethodBuilder`2.Execute(IInvocation invocation)",
      "   at Submission#5.SetupVoidMethodBuilder`1.<>c__DisplayClass2_0.<.ctor>b__0(IInvocation invocation)",
      "   at Submission#4.MockInterceptor.PerformProceed(IInvocation invocation)",
      "   at Castle.DynamicProxy.StandardInterceptor.Intercept(IInvocation invocation)",
      "   at Castle.DynamicProxy.AbstractInvocation.Proceed()",
      "   at Castle.Proxies.IFoo2Proxy.M(String arg)",
      "   at Submission#11.<<Initialize>>d__0.MoveNext()",
      "--- End of stack trace from previous location ---",
      "   at Microsoft.CodeAnalysis.Scripting.ScriptExecutionState.RunSubmissionsAsync[TResult](ImmutableArray`1 precedingExecutors, Func`2 currentExecutor, StrongBox`1 exceptionHolderOpt, Func`2 catchExceptionOpt, CancellationToken cancellationToken)"
     ]
    }
   ],
   "source": [
    "mockObj.Object.M(\"World\")"
   ]
  }
 ],
 "metadata": {
  "kernelspec": {
   "display_name": ".NET (C#)",
   "language": "C#",
   "name": ".net-csharp"
  },
  "language_info": {
   "file_extension": ".cs",
   "mimetype": "text/x-csharp",
   "name": "C#",
   "pygments_lexer": "csharp",
   "version": "11.0"
  },
  "orig_nbformat": 4
 },
 "nbformat": 4,
 "nbformat_minor": 2
}
